{
 "cells": [
  {
   "cell_type": "code",
   "execution_count": 1,
   "id": "55930430",
   "metadata": {},
   "outputs": [
    {
     "name": "stdout",
     "output_type": "stream",
     "text": [
      "nhập vào độ C: 32\n",
      "nhiệt độ ở độ F là 89.6\n"
     ]
    }
   ],
   "source": [
    "c = input(\"nhập vào độ C: \")\n",
    "f = (9*(int(c))/5)+32\n",
    "print(f\"nhiệt độ ở độ F là {f}\")"
   ]
  }
 ],
 "metadata": {
  "kernelspec": {
   "display_name": "Python 3 (ipykernel)",
   "language": "python",
   "name": "python3"
  },
  "language_info": {
   "codemirror_mode": {
    "name": "ipython",
    "version": 3
   },
   "file_extension": ".py",
   "mimetype": "text/x-python",
   "name": "python",
   "nbconvert_exporter": "python",
   "pygments_lexer": "ipython3",
   "version": "3.10.2"
  }
 },
 "nbformat": 4,
 "nbformat_minor": 5
}
