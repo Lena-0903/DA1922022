{
 "cells": [
  {
   "cell_type": "code",
   "execution_count": 4,
   "id": "60548210",
   "metadata": {},
   "outputs": [
    {
     "name": "stdout",
     "output_type": "stream",
     "text": [
      "nhập số tiền USD cần đổi: 1\n",
      "nhập tỷ giá USD/VND: 23\n",
      "23\n"
     ]
    }
   ],
   "source": [
    "usd = int(input(\"nhập số tiền USD cần đổi: \"))\n",
    "ty_gia = int(input(\"nhập tỷ giá USD/VND: \"))\n",
    "vnd = usd*ty_gia\n",
    "print(vnd)"
   ]
  }
 ],
 "metadata": {
  "kernelspec": {
   "display_name": "Python 3 (ipykernel)",
   "language": "python",
   "name": "python3"
  },
  "language_info": {
   "codemirror_mode": {
    "name": "ipython",
    "version": 3
   },
   "file_extension": ".py",
   "mimetype": "text/x-python",
   "name": "python",
   "nbconvert_exporter": "python",
   "pygments_lexer": "ipython3",
   "version": "3.10.2"
  }
 },
 "nbformat": 4,
 "nbformat_minor": 5
}
