{
 "cells": [
  {
   "cell_type": "code",
   "execution_count": 1,
   "id": "6f5d7423",
   "metadata": {
    "scrolled": true
   },
   "outputs": [
    {
     "name": "stdout",
     "output_type": "stream",
     "text": [
      "nhập vào số: 4\n",
      "số chẵn\n"
     ]
    }
   ],
   "source": [
    "# kiểm tra số chẵn lẻ với toán tử 3 ngôi\n",
    "number = int(input(\"nhập vào số: \"))\n",
    "a = \"số chẵn\" if number % 2 == 0 else \"số lẻ\"\n",
    "print(a)"
   ]
  },
  {
   "cell_type": "code",
   "execution_count": 5,
   "id": "858704ec",
   "metadata": {
    "scrolled": true
   },
   "outputs": [
    {
     "name": "stdout",
     "output_type": "stream",
     "text": [
      "nhập vào số a: 5.4\n",
      "5.4 không là số chẵn và số lẻ\n"
     ]
    }
   ],
   "source": [
    "# kiểm tra số chẵn lẻ\n",
    "a = float(input(\"nhập vào số a: \"))\n",
    "if a % 2 == 0:\n",
    "    print(f\"{a} là số chẵn\")\n",
    "elif a%2 == 1:\n",
    "    print(f\"{a} là số lẻ\")\n",
    "else: print(f\"{a} không là số chẵn và số lẻ\")\n",
    "    "
   ]
  },
  {
   "cell_type": "code",
   "execution_count": null,
   "id": "b06438c6",
   "metadata": {},
   "outputs": [],
   "source": [
    "# hiển thị thông tin đơn hàng\n",
    "num = int (input(\"nhập vào giá: \"))\n",
    "if num >= 150:\n",
    "    print(f\"tổng là: {num - 50}\")\n",
    "elif num >= 100:\n",
    "    print(f\"tổng là: {num -25}\")\n",
    "elif num >= 75:\n",
    "    print(f\"tổng là: {num - 15})\n",
    "else:\n",
    "    print(f\"tổng là: {num -15}\")\n"
   ]
  }
 ],
 "metadata": {
  "kernelspec": {
   "display_name": "Python 3 (ipykernel)",
   "language": "python",
   "name": "python3"
  },
  "language_info": {
   "codemirror_mode": {
    "name": "ipython",
    "version": 3
   },
   "file_extension": ".py",
   "mimetype": "text/x-python",
   "name": "python",
   "nbconvert_exporter": "python",
   "pygments_lexer": "ipython3",
   "version": "3.10.2"
  }
 },
 "nbformat": 4,
 "nbformat_minor": 5
}
