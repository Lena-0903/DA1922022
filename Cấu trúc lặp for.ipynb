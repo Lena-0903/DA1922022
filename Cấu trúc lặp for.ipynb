{
 "cells": [
  {
   "cell_type": "markdown",
   "id": "33f9d7a5",
   "metadata": {},
   "source": [
    "# Cấu trúc lặp for trong python"
   ]
  },
  {
   "attachments": {
    "image.png": {
     "image/png": "[encoded data removed]"
    }
   },
   "cell_type": "markdown",
   "id": "f64c9eae",
   "metadata": {},
   "source": [
    "## Review: Vẽ kim tự tháp\n",
    "![image.png](attachment:image.png)"
   ]
  },
  {
   "cell_type": "code",
   "execution_count": null,
   "id": "ffcb1603",
   "metadata": {},
   "outputs": [],
   "source": []
  },
  {
   "cell_type": "code",
   "execution_count": null,
   "id": "eef4d4b2",
   "metadata": {},
   "outputs": [],
   "source": [
    "import turtle\n",
    "p = turtle.Turtle()\n",
    "i = 10\n",
    "while i <= 50:\n",
    "    p.circle(i,steps = 3)\n",
    "    i += 10\n",
    "turtle.done()"
   ]
  },
  {
   "cell_type": "code",
   "execution_count": null,
   "id": "5883cfc2",
   "metadata": {},
   "outputs": [],
   "source": []
  },
  {
   "cell_type": "markdown",
   "id": "35ef7a35",
   "metadata": {},
   "source": [
    "## for kết hợp với hàm range()"
   ]
  },
  {
   "cell_type": "markdown",
   "id": "80e01298",
   "metadata": {},
   "source": [
    "### Trường hợp 1 tham số"
   ]
  },
  {
   "cell_type": "code",
   "execution_count": 3,
   "id": "b56eadb4",
   "metadata": {
    "scrolled": true
   },
   "outputs": [
    {
     "name": "stdout",
     "output_type": "stream",
     "text": [
      "0\n",
      "1\n",
      "2\n",
      "3\n",
      "4\n",
      "5\n",
      "6\n",
      "7\n",
      "8\n",
      "9\n",
      "10\n",
      "11\n",
      "12\n",
      "13\n",
      "14\n",
      "15\n",
      "16\n",
      "17\n",
      "18\n",
      "19\n",
      "20\n",
      "21\n",
      "22\n",
      "23\n",
      "24\n",
      "25\n",
      "26\n",
      "27\n",
      "28\n",
      "29\n",
      "30\n",
      "31\n",
      "32\n",
      "33\n",
      "34\n",
      "35\n",
      "36\n",
      "37\n",
      "38\n",
      "39\n",
      "40\n",
      "41\n",
      "42\n",
      "43\n",
      "44\n",
      "45\n",
      "46\n",
      "47\n",
      "48\n",
      "49\n",
      "50\n"
     ]
    }
   ],
   "source": [
    "# in ra các số tự nhiên từ 0 đến 50\n",
    "i = 0\n",
    "while i <= 50:\n",
    "    print(i)\n",
    "    i+=1\n",
    "    "
   ]
  },
  {
   "cell_type": "code",
   "execution_count": 4,
   "id": "926b3294",
   "metadata": {},
   "outputs": [
    {
     "name": "stdout",
     "output_type": "stream",
     "text": [
      "0\n",
      "1\n",
      "2\n",
      "3\n",
      "4\n",
      "5\n",
      "6\n",
      "7\n",
      "8\n",
      "9\n",
      "10\n"
     ]
    }
   ],
   "source": [
    "for i in range(11):\n",
    "    print(i)"
   ]
  },
  {
   "cell_type": "markdown",
   "id": "b4eb03ed",
   "metadata": {},
   "source": [
    "### Ví dụ: In các số lẻ từ 0 đến 100"
   ]
  },
  {
   "cell_type": "code",
   "execution_count": 7,
   "id": "f73caa14",
   "metadata": {},
   "outputs": [
    {
     "name": "stdout",
     "output_type": "stream",
     "text": [
      "1\n",
      "3\n",
      "5\n",
      "7\n",
      "9\n",
      "11\n",
      "13\n",
      "15\n",
      "17\n",
      "19\n",
      "21\n",
      "23\n",
      "25\n",
      "27\n",
      "29\n",
      "31\n",
      "33\n",
      "35\n",
      "37\n",
      "39\n",
      "41\n",
      "43\n",
      "45\n",
      "47\n",
      "49\n",
      "51\n",
      "53\n",
      "55\n",
      "57\n",
      "59\n",
      "61\n",
      "63\n",
      "65\n",
      "67\n",
      "69\n",
      "71\n",
      "73\n",
      "75\n",
      "77\n",
      "79\n",
      "81\n",
      "83\n",
      "85\n",
      "87\n",
      "89\n",
      "91\n",
      "93\n",
      "95\n",
      "97\n",
      "99\n"
     ]
    }
   ],
   "source": [
    "for i in range(101):\n",
    "    if i % 2 != 0:\n",
    "        print(i)"
   ]
  },
  {
   "cell_type": "markdown",
   "id": "5b4c7f1c",
   "metadata": {},
   "source": [
    "### Trường hợp 2 tham số"
   ]
  },
  {
   "cell_type": "code",
   "execution_count": 8,
   "id": "ab369d26",
   "metadata": {},
   "outputs": [
    {
     "name": "stdout",
     "output_type": "stream",
     "text": [
      "10\n",
      "11\n",
      "12\n",
      "13\n",
      "14\n",
      "15\n",
      "16\n",
      "17\n",
      "18\n",
      "19\n",
      "20\n"
     ]
    }
   ],
   "source": [
    "# in ra các số tự nhiên từ 10 đến 20\n",
    "for i in range(10,21):\n",
    "    print(i)\n",
    "# range(start, end+1, step) (nều không có start thì mặc định là từ 0)"
   ]
  },
  {
   "cell_type": "markdown",
   "id": "06853353",
   "metadata": {},
   "source": [
    "### Ví dụ: In các số chia hết cho 7 từ a đến b"
   ]
  },
  {
   "cell_type": "code",
   "execution_count": 9,
   "id": "7b21bcdf",
   "metadata": {},
   "outputs": [
    {
     "name": "stdout",
     "output_type": "stream",
     "text": [
      "1505\n",
      "1512\n",
      "1519\n",
      "1526\n",
      "1533\n",
      "1540\n",
      "1547\n",
      "1554\n",
      "1561\n",
      "1568\n",
      "1575\n",
      "1582\n",
      "1589\n",
      "1596\n"
     ]
    }
   ],
   "source": [
    "a=1500\n",
    "b=1600\n",
    "for i in range(1500, 1601):\n",
    "    if i%7 == 0:\n",
    "        print(i)"
   ]
  },
  {
   "cell_type": "markdown",
   "id": "5f784920",
   "metadata": {},
   "source": [
    "### Trường hợp 3 tham số"
   ]
  },
  {
   "cell_type": "code",
   "execution_count": 18,
   "id": "f6b32018",
   "metadata": {},
   "outputs": [
    {
     "name": "stdout",
     "output_type": "stream",
     "text": [
      "100\n",
      "97\n",
      "94\n",
      "91\n",
      "88\n",
      "85\n",
      "82\n",
      "79\n",
      "76\n",
      "73\n",
      "70\n",
      "67\n",
      "64\n",
      "61\n",
      "58\n",
      "55\n",
      "52\n",
      "49\n",
      "46\n",
      "43\n",
      "40\n",
      "37\n",
      "34\n",
      "31\n",
      "28\n",
      "25\n",
      "22\n",
      "19\n",
      "16\n",
      "13\n",
      "10\n",
      "7\n",
      "4\n",
      "1\n"
     ]
    }
   ],
   "source": [
    "for i in range(100,0, -3):\n",
    "    print(i)"
   ]
  },
  {
   "cell_type": "markdown",
   "id": "a4c0fc85",
   "metadata": {},
   "source": [
    "### Ví dụ: Biểu diễn cấp số cộng"
   ]
  },
  {
   "cell_type": "code",
   "execution_count": 22,
   "id": "9e9a5cbf",
   "metadata": {},
   "outputs": [
    {
     "name": "stdout",
     "output_type": "stream",
     "text": [
      "0\n",
      "4\n",
      "8\n",
      "12\n",
      "16\n",
      "20\n",
      "24\n",
      "28\n",
      "32\n",
      "36\n",
      "40\n",
      "44\n",
      "48\n",
      "52\n",
      "56\n",
      "60\n",
      "64\n",
      "68\n",
      "72\n",
      "76\n",
      "80\n",
      "84\n",
      "88\n",
      "92\n",
      "96\n",
      "100\n"
     ]
    }
   ],
   "source": [
    "# in từ 0 đến 100 mỗi số cách nhau 4 đv\n",
    "for i in range(0, 101, 4):\n",
    "    print(i)"
   ]
  },
  {
   "cell_type": "markdown",
   "id": "a2a61887",
   "metadata": {},
   "source": [
    "## lặp qua một chuỗi"
   ]
  },
  {
   "cell_type": "code",
   "execution_count": 1,
   "id": "e495f392",
   "metadata": {
    "scrolled": true
   },
   "outputs": [
    {
     "name": "stdout",
     "output_type": "stream",
     "text": [
      "17\n",
      "P\n",
      "y\n",
      "t\n",
      "h\n",
      "o\n",
      "n\n",
      "F\n",
      "u\n",
      "n\n",
      "d\n",
      "a\n",
      "m\n",
      "e\n",
      "n\n",
      "t\n",
      "a\n",
      "l\n"
     ]
    }
   ],
   "source": [
    "course_name = \"PythonFundamental\"\n",
    "# cách 1: kiểm tra vị trí (index) của từng ký tự trong chuỗi \n",
    "# \n",
    "print(len(course_name))\n",
    "for i in range(len(course_name)):\n",
    "    print(course_name[i])"
   ]
  },
  {
   "cell_type": "code",
   "execution_count": 2,
   "id": "abfeb471",
   "metadata": {},
   "outputs": [
    {
     "name": "stdout",
     "output_type": "stream",
     "text": [
      "P-y-t-h-o-n-F-u-n-d-a-m-e-n-t-a-l-"
     ]
    }
   ],
   "source": [
    "#cách 2: duyệt từng ký tự trong chuỗi\n",
    "for c in course_name:\n",
    "    print(c,end=\"-\")"
   ]
  },
  {
   "cell_type": "markdown",
   "id": "a4013631",
   "metadata": {},
   "source": [
    "### Ví dụ: Đếm số lượng nguyên âm trong chuỗi"
   ]
  },
  {
   "cell_type": "code",
   "execution_count": 14,
   "id": "319bfb92",
   "metadata": {},
   "outputs": [
    {
     "name": "stdout",
     "output_type": "stream",
     "text": [
      "chuỗi này có 7 nguyên âm\n"
     ]
    }
   ],
   "source": [
    "chuoi = \"lavender chamomile\"\n",
    "total = 0\n",
    "for c in chuoi:\n",
    "    if c == \"u\" or c == \"e\" or c == \"o\" or c == \"a\" or c == \"i\":\n",
    "        #hoặc if c in 'aoeui':\n",
    "        total +=1\n",
    "print(f\"chuỗi này có {total} nguyên âm\")"
   ]
  },
  {
   "cell_type": "code",
   "execution_count": null,
   "id": "8c57f51e",
   "metadata": {},
   "outputs": [],
   "source": [
    "string = input(\"Nhập chuỗi: \")\n",
    "vowel = \"ueoaiUEOAI\"\n",
    "count = 0 \n",
    "for i in string:\n",
    "    if not vowel.find(i) <0 : \n",
    "        count += 1\n",
    "print(count)"
   ]
  },
  {
   "cell_type": "markdown",
   "id": "49bf78d3",
   "metadata": {},
   "source": [
    "## Lặp qua một danh sách chuỗi"
   ]
  },
  {
   "cell_type": "code",
   "execution_count": 15,
   "id": "0a5874cf",
   "metadata": {},
   "outputs": [
    {
     "name": "stdout",
     "output_type": "stream",
     "text": [
      "trung\n",
      "dũng\n",
      "hoa\n",
      "thành\n"
     ]
    }
   ],
   "source": [
    "list_student = ['trung', 'dũng', 'hoa', 'thành']\n",
    "for i in range(len(list_student)):\n",
    "    print(list_student[i])"
   ]
  },
  {
   "cell_type": "markdown",
   "id": "be1b5ba5",
   "metadata": {},
   "source": [
    "### Ví dụ: Tìm chuỗi dài nhất"
   ]
  },
  {
   "cell_type": "code",
   "execution_count": 34,
   "id": "d6e7ef2c",
   "metadata": {},
   "outputs": [
    {
     "name": "stdout",
     "output_type": "stream",
     "text": [
      "bún cá chấ\n",
      "bánh su kemm\n"
     ]
    }
   ],
   "source": [
    "favorite_foods = ['bún bò', 'bún cá chấm', 'phở bò', 'bánh su kemm']\n",
    "max_l = len(favorite_foods[0])\n",
    "max_s = favorite_foods[0]\n",
    "for i in range(len(favorite_foods)):\n",
    "    if len(favorite_foods[i])> max_l:\n",
    "        max_l =  len(favorite_foods[i])\n",
    "        max_s = favorite_foods[i]\n",
    "        print(max_s)"
   ]
  },
  {
   "cell_type": "code",
   "execution_count": 30,
   "id": "4f174f9d",
   "metadata": {},
   "outputs": [
    {
     "name": "stdout",
     "output_type": "stream",
     "text": [
      "ga ran\n"
     ]
    }
   ],
   "source": [
    "list_food = ['ga','canh','com','ga ran']\n",
    "max_l = len(list_food[0])\n",
    "max_s = list_food[0]\n",
    "for i in range(len(list_food)):\n",
    "    if len(list_food[i]) > max_l:\n",
    "        max_l = len(list_food[i])\n",
    "        max_s = list_food[i]\n",
    "print(max_s)\n"
   ]
  },
  {
   "cell_type": "code",
   "execution_count": 26,
   "id": "d31d8e08",
   "metadata": {},
   "outputs": [
    {
     "name": "stdout",
     "output_type": "stream",
     "text": [
      "ga ran\n"
     ]
    }
   ],
   "source": []
  },
  {
   "cell_type": "markdown",
   "id": "69fa4d9f",
   "metadata": {},
   "source": [
    "## Vòng lặp lồng nhau"
   ]
  },
  {
   "cell_type": "code",
   "execution_count": 29,
   "id": "864bc218",
   "metadata": {},
   "outputs": [
    {
     "name": "stdout",
     "output_type": "stream",
     "text": [
      "nhập chiều cao tam giác: 14\n",
      "+-*+-*+-*+-*+-\n",
      "+-*+-*+-*+-*+\n",
      "+-*+-*+-*+-*\n",
      "+-*+-*+-*+-\n",
      "+-*+-*+-*+\n",
      "+-*+-*+-*\n",
      "+-*+-*+-\n",
      "+-*+-*+\n",
      "+-*+-*\n",
      "+-*+-\n",
      "+-*+\n",
      "+-*\n",
      "+-\n",
      "+\n"
     ]
    }
   ],
   "source": [
    "height = int(input(\"nhập chiều cao tam giác: \"))\n",
    "for i in range(height,0,-1):\n",
    "    for j in range(i):\n",
    "        if j % 3 == 1:\n",
    "            print('-', end='')\n",
    "        elif j % 3 == 2:\n",
    "            print('*', end='')\n",
    "        else: print('+', end='')\n",
    "    print()\n",
    "        "
   ]
  }
 ],
 "metadata": {
  "kernelspec": {
   "display_name": "Python 3 (ipykernel)",
   "language": "python",
   "name": "python3"
  },
  "language_info": {
   "codemirror_mode": {
    "name": "ipython",
    "version": 3
   },
   "file_extension": ".py",
   "mimetype": "text/x-python",
   "name": "python",
   "nbconvert_exporter": "python",
   "pygments_lexer": "ipython3",
   "version": "3.10.2"
  }
 },
 "nbformat": 4,
 "nbformat_minor": 5
}
