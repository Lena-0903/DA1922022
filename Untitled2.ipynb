{
 "cells": [
  {
   "cell_type": "code",
   "execution_count": 1,
   "id": "306765ac",
   "metadata": {
    "scrolled": true
   },
   "outputs": [
    {
     "name": "stdout",
     "output_type": "stream",
     "text": [
      "1\n",
      "2\n",
      "4\n"
     ]
    }
   ],
   "source": [
    "if 'bar' in {'foo': 1, 'bar': 2, 'baz': 3}:\n",
    "    print(1)\n",
    "    print(2)\n",
    "    if 'a' in 'qux':\n",
    "        print(3)\n",
    "print(4)"
   ]
  },
  {
   "cell_type": "code",
   "execution_count": 2,
   "id": "390fd8d5",
   "metadata": {},
   "outputs": [
    {
     "name": "stdout",
     "output_type": "stream",
     "text": [
      "ax\n"
     ]
    }
   ],
   "source": [
    "ty = 'a' + 'x' if '123'.isdigit() else 'y' + 'b'\n",
    "print(ty)"
   ]
  },
  {
   "cell_type": "code",
   "execution_count": 8,
   "id": "05e6a0a0",
   "metadata": {},
   "outputs": [],
   "source": [
    "x =2 \n",
    "y=3\n",
    "\n",
    "if x < y:\n",
    "    if x > 10:\n",
    "        print('foo')"
   ]
  },
  {
   "cell_type": "code",
   "execution_count": 9,
   "id": "9712367d",
   "metadata": {},
   "outputs": [
    {
     "name": "stdout",
     "output_type": "stream",
     "text": [
      "foo\n",
      "bar\n",
      "baz\n"
     ]
    }
   ],
   "source": [
    "if x < y:\n",
    "    print('foo'); \n",
    "    print('bar'); \n",
    "    print('baz')"
   ]
  }
 ],
 "metadata": {
  "kernelspec": {
   "display_name": "Python 3 (ipykernel)",
   "language": "python",
   "name": "python3"
  },
  "language_info": {
   "codemirror_mode": {
    "name": "ipython",
    "version": 3
   },
   "file_extension": ".py",
   "mimetype": "text/x-python",
   "name": "python",
   "nbconvert_exporter": "python",
   "pygments_lexer": "ipython3",
   "version": "3.10.2"
  }
 },
 "nbformat": 4,
 "nbformat_minor": 5
}
