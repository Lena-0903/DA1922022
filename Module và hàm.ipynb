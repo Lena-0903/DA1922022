{
 "cells": [
  {
   "cell_type": "markdown",
   "id": "05948314",
   "metadata": {},
   "source": [
    "# Function"
   ]
  },
  {
   "cell_type": "code",
   "execution_count": 1,
   "id": "706add2a",
   "metadata": {},
   "outputs": [
    {
     "name": "stdout",
     "output_type": "stream",
     "text": [
      "nhập tên hv 1: Na\n",
      "nhập tên hv 2: Trang\n",
      "nhập tên hv 3: Thảo\n",
      "Na\n",
      "Trang\n",
      "Thảo\n"
     ]
    }
   ],
   "source": [
    "# viết chương trình nhập vào tên của 3 hv khác nhau và in ra tên 3 hv đó \n",
    "name1 = input(\"nhập tên hv 1: \")\n",
    "name2 = input(\"nhập tên hv 2: \")\n",
    "name3 = input(\"nhập tên hv 3: \")\n",
    "print(name1)\n",
    "print(name2)\n",
    "print(name3)"
   ]
  },
  {
   "cell_type": "code",
   "execution_count": 2,
   "id": "eba3ea2d",
   "metadata": {},
   "outputs": [
    {
     "name": "stdout",
     "output_type": "stream",
     "text": [
      "Nhập tên học viên 1: na\n",
      "na\n",
      "Nhập tên học viên 2: trong\n",
      "trong\n",
      "Nhập tên học viên 3: lan\n",
      "lan\n",
      "Tên dài nhất có 5 kí tự\n"
     ]
    }
   ],
   "source": [
    "# viết chương trình nhập vào tên 3 hv khác nhau và in ra tên 3 hv đó, sau đó cho biết tên dài nhất có bn ký tự\n",
    "a = 0\n",
    "for i in range(3):\n",
    "    ten = str(input(f\"Nhập tên học viên {i+1}: \"))\n",
    "    print(ten)\n",
    "    if len(ten) > a:\n",
    "        a = len(ten)\n",
    "print(f\"Tên dài nhất có {a} kí tự\")"
   ]
  },
  {
   "cell_type": "code",
   "execution_count": null,
   "id": "01c3dfa1",
   "metadata": {},
   "outputs": [],
   "source": [
    "name1 = input(\"nhập tên hv 1: \")\n",
    "name2 = input(\"nhập tên hv 2: \")\n",
    "name3 = input(\"nhập tên hv 3: \")\n",
    "if len(name1)>len(name2):\n",
    "    len(name1)>len(name3):\n",
    "        print(f\"tên dài nhất có {len})\n",
    "    "
   ]
  },
  {
   "cell_type": "markdown",
   "id": "3b68247e",
   "metadata": {},
   "source": [
    "## Function(hàm) là gì?"
   ]
  },
  {
   "cell_type": "markdown",
   "id": "cf84a685",
   "metadata": {},
   "source": [
    "Hàm (function) là một khối lệnh đặc biệt, nó được đặt tên, giúp mã chương trình dễ đọc hơn, và có thể gọi để sử dụng ở các nơi khác nhau trong chương trình. Hàm chính là khối lệnh có thể tái sử dụng (reuseable)."
   ]
  },
  {
   "cell_type": "markdown",
   "id": "3636c8b1",
   "metadata": {},
   "source": [
    "### Hàm\n",
    "\n",
    "Cú pháp:\n",
    "\n",
    "`def <tên hàm>(<tham số>):\n",
    "    //Nội dung hàm`\n",
    "\n",
    "Gọi hàm:\n",
    "`<tên hàm>(<giá trị đầu vào>)`"
   ]
  },
  {
   "cell_type": "markdown",
   "id": "18f95aa8",
   "metadata": {},
   "source": [
    "### Ví dụ: Hàm in"
   ]
  },
  {
   "cell_type": "code",
   "execution_count": 3,
   "id": "0753ca43",
   "metadata": {},
   "outputs": [
    {
     "name": "stdout",
     "output_type": "stream",
     "text": [
      "Hellooooo\n"
     ]
    }
   ],
   "source": [
    "print(\"Hellooooo\")"
   ]
  },
  {
   "cell_type": "markdown",
   "id": "29c55e2b",
   "metadata": {},
   "source": [
    "### Ví dụ: Hàm tính giá trị tuyệt đối"
   ]
  },
  {
   "cell_type": "code",
   "execution_count": 4,
   "id": "e492700a",
   "metadata": {},
   "outputs": [
    {
     "data": {
      "text/plain": [
       "2"
      ]
     },
     "execution_count": 4,
     "metadata": {},
     "output_type": "execute_result"
    }
   ],
   "source": [
    "abs(-2)"
   ]
  },
  {
   "cell_type": "markdown",
   "id": "07fa617d",
   "metadata": {},
   "source": [
    "### Ví dụ: Hàm vẽ hình tròn"
   ]
  },
  {
   "cell_type": "code",
   "execution_count": 5,
   "id": "2a2dec85",
   "metadata": {},
   "outputs": [
    {
     "ename": "TypeError",
     "evalue": "TNavigator.circle() missing 1 required positional argument: 'radius'",
     "output_type": "error",
     "traceback": [
      "\u001b[1;31m---------------------------------------------------------------------------\u001b[0m",
      "\u001b[1;31mTypeError\u001b[0m                                 Traceback (most recent call last)",
      "Input \u001b[1;32mIn [5]\u001b[0m, in \u001b[0;36m<module>\u001b[1;34m\u001b[0m\n\u001b[0;32m      1\u001b[0m \u001b[38;5;28;01mimport\u001b[39;00m \u001b[38;5;21;01mturtle\u001b[39;00m\n\u001b[0;32m      2\u001b[0m pen \u001b[38;5;241m=\u001b[39m turtle\u001b[38;5;241m.\u001b[39mTurtle\n\u001b[1;32m----> 3\u001b[0m \u001b[43mpen\u001b[49m\u001b[38;5;241;43m.\u001b[39;49m\u001b[43mcircle\u001b[49m\u001b[43m(\u001b[49m\u001b[38;5;241;43m100\u001b[39;49m\u001b[43m)\u001b[49m\n\u001b[0;32m      4\u001b[0m turtle\u001b[38;5;241m.\u001b[39mdone()\n",
      "\u001b[1;31mTypeError\u001b[0m: TNavigator.circle() missing 1 required positional argument: 'radius'"
     ]
    }
   ],
   "source": [
    "import turtle\n",
    "pen = turtle.Turtle\n",
    "pen.circle(100)\n",
    "turtle.done()"
   ]
  },
  {
   "cell_type": "markdown",
   "id": "c4575e29",
   "metadata": {},
   "source": [
    "## Xây dựng và sử dụng hàm trong python"
   ]
  },
  {
   "cell_type": "markdown",
   "id": "00ac6720",
   "metadata": {},
   "source": [
    "### Hàm say_hello"
   ]
  },
  {
   "cell_type": "code",
   "execution_count": 7,
   "id": "47575691",
   "metadata": {},
   "outputs": [],
   "source": [
    "# tạo ra 1 hàm say_hello để in \"hello world\" ra màn hình\n",
    "def say_hello():\n",
    "    print(\"hello world\")\n"
   ]
  },
  {
   "cell_type": "code",
   "execution_count": 8,
   "id": "5a1785ca",
   "metadata": {},
   "outputs": [
    {
     "name": "stdout",
     "output_type": "stream",
     "text": [
      "hello world\n"
     ]
    }
   ],
   "source": [
    "say_hello()"
   ]
  },
  {
   "cell_type": "markdown",
   "id": "f9b6f894",
   "metadata": {},
   "source": [
    "### Hàm vẽ cây thông"
   ]
  },
  {
   "cell_type": "code",
   "execution_count": 14,
   "id": "0994ceed",
   "metadata": {},
   "outputs": [],
   "source": [
    "import turtle\n",
    "def cay_thong():\n",
    "    pen = Turtle()\n",
    "    pen.speed(9)\n",
    "\n",
    "# ve la cay\n",
    "\n",
    "    pen.pencolor(\"#21610B\")\n",
    "             \n",
    "    pen.fillcolor(\"#21610B\")\n",
    "    pen.begin_fill()\n",
    "\n",
    "    pen.right(180)\n",
    "    pen.goto(0,40)\n",
    "    pen.circle(50, steps = 3)\n",
    "    pen.end_fill()\n",
    "\n",
    "    pen.penup()\n",
    "    pen.goto(0,10)\n",
    "    pen.pendown()\n",
    "\n",
    "    pen.fillcolor(\"#21610B\")\n",
    "    pen.begin_fill()\n",
    "\n",
    "\n",
    "    pen.circle(50, steps = 3)\n",
    "    pen.end_fill()\n",
    "\n",
    "    pen.penup()\n",
    "    pen.goto(0,-20)\n",
    "    pen.pendown()\n",
    "\n",
    "    pen.fillcolor(\"#21610B\")\n",
    "    pen.begin_fill()\n",
    "\n",
    "\n",
    "    pen.circle(50, steps = 3)\n",
    "    pen.end_fill()\n",
    "\n",
    "    # ve than cay\n",
    "    pen.penup()\n",
    "    pen.goto(19,-95)\n",
    "    pen.pendown()\n",
    "\n",
    "    pen.pencolor(\"#886A08\")\n",
    "\n",
    "    pen.fillcolor(\"#886A08\")\n",
    "    pen.begin_fill()\n",
    "\n",
    "    pen.left(90)\n",
    "\n",
    "    pen.forward(100)\n",
    "    pen.right(90)\n",
    "    pen.forward(40)\n",
    "    pen.right(90)\n",
    "    pen.forward(100)\n",
    "    pen.right(90)\n",
    "    pen.forward(40)\n",
    "\n",
    "    pen.end_fill()\n",
    "\n",
    "\n",
    "    turtle.done()"
   ]
  },
  {
   "cell_type": "code",
   "execution_count": 15,
   "id": "b75b043d",
   "metadata": {},
   "outputs": [
    {
     "ename": "NameError",
     "evalue": "name 'Turtle' is not defined",
     "output_type": "error",
     "traceback": [
      "\u001b[1;31m---------------------------------------------------------------------------\u001b[0m",
      "\u001b[1;31mNameError\u001b[0m                                 Traceback (most recent call last)",
      "Input \u001b[1;32mIn [15]\u001b[0m, in \u001b[0;36m<module>\u001b[1;34m\u001b[0m\n\u001b[1;32m----> 1\u001b[0m \u001b[43mcay_thong\u001b[49m\u001b[43m(\u001b[49m\u001b[43m)\u001b[49m\n",
      "Input \u001b[1;32mIn [14]\u001b[0m, in \u001b[0;36mcay_thong\u001b[1;34m()\u001b[0m\n\u001b[0;32m      2\u001b[0m \u001b[38;5;28;01mdef\u001b[39;00m \u001b[38;5;21mcay_thong\u001b[39m():\n\u001b[1;32m----> 3\u001b[0m     pen \u001b[38;5;241m=\u001b[39m \u001b[43mTurtle\u001b[49m()\n\u001b[0;32m      4\u001b[0m     pen\u001b[38;5;241m.\u001b[39mspeed(\u001b[38;5;241m9\u001b[39m)\n\u001b[0;32m      6\u001b[0m \u001b[38;5;66;03m# ve la cay\u001b[39;00m\n",
      "\u001b[1;31mNameError\u001b[0m: name 'Turtle' is not defined"
     ]
    }
   ],
   "source": [
    "cay_thong()"
   ]
  },
  {
   "attachments": {
    "image.png": {
     "image/png": "[encoded data removed]"
    }
   },
   "cell_type": "markdown",
   "id": "08fa2b6b",
   "metadata": {},
   "source": [
    "### Thực hành: Viết hàm vẽ ra hình ảnh như dưới đây:\n",
    "![image.png](attachment:image.png)"
   ]
  },
  {
   "cell_type": "code",
   "execution_count": 26,
   "id": "b3161e2c",
   "metadata": {},
   "outputs": [],
   "source": [
    "import turtle\n",
    "def hinh_tron():\n",
    "    pen = turtle.Turtle()\n",
    "    pen.circle(10)\n",
    "    pen.penup()\n",
    "    pen.goto(0, -10)\n",
    "    pen.pendown()\n",
    "    pen.circle(20)\n",
    "    pen.penup()\n",
    "    pen.goto(0, -20)\n",
    "    pen.pendown()\n",
    "    pen.circle(30)\n",
    "    pen.penup()\n",
    "    pen.goto(0, -30)\n",
    "    pen.pendown()\n",
    "    pen.circle(40)\n",
    "    pen.penup()\n",
    "    pen.goto(0, -40)\n",
    "    pen.pendown()\n",
    "    pen.circle(50)\n",
    "\n",
    "\n",
    "    turtle.done()"
   ]
  },
  {
   "cell_type": "code",
   "execution_count": null,
   "id": "1432b755",
   "metadata": {},
   "outputs": [],
   "source": [
    "hinh_tron()"
   ]
  },
  {
   "cell_type": "markdown",
   "id": "77fa1ef1",
   "metadata": {},
   "source": [
    "## doc_string cho hàm"
   ]
  },
  {
   "cell_type": "code",
   "execution_count": null,
   "id": "8dcf448b",
   "metadata": {},
   "outputs": [],
   "source": [
    "# Hàm tính chu vi hình chữ nhật\n"
   ]
  },
  {
   "cell_type": "code",
   "execution_count": 5,
   "id": "a7dc57e9",
   "metadata": {},
   "outputs": [],
   "source": [
    "# Hàm xếp loại học sinh"
   ]
  },
  {
   "cell_type": "markdown",
   "id": "0c5f3f35",
   "metadata": {},
   "source": [
    "## Phạm vi biến"
   ]
  },
  {
   "cell_type": "code",
   "execution_count": 6,
   "id": "b332222c",
   "metadata": {},
   "outputs": [],
   "source": [
    "# Hàm tính tổng các số từ 1 đến 10\n"
   ]
  },
  {
   "cell_type": "markdown",
   "id": "7407e8fe",
   "metadata": {},
   "source": [
    "## Đối số của hàm"
   ]
  },
  {
   "cell_type": "code",
   "execution_count": null,
   "id": "f5787950",
   "metadata": {},
   "outputs": [],
   "source": [
    "# Hàm tính thể tích hình lập phương"
   ]
  },
  {
   "cell_type": "code",
   "execution_count": 7,
   "id": "8d1bc23b",
   "metadata": {},
   "outputs": [],
   "source": [
    "# Hàm xếp loại học sinh"
   ]
  },
  {
   "cell_type": "markdown",
   "id": "1eee19a7",
   "metadata": {},
   "source": [
    "### Thực hành: Viết hàm nhận vào một số nguyên và kiểm tra xem số đó có phải là số nguyên tố hay không.\n"
   ]
  },
  {
   "cell_type": "code",
   "execution_count": null,
   "id": "d3c5d3a9",
   "metadata": {},
   "outputs": [],
   "source": []
  },
  {
   "cell_type": "markdown",
   "id": "dea3b237",
   "metadata": {},
   "source": [
    "## Đối số có giá trị mặc định"
   ]
  },
  {
   "cell_type": "code",
   "execution_count": null,
   "id": "8e871a22",
   "metadata": {},
   "outputs": [],
   "source": []
  },
  {
   "cell_type": "code",
   "execution_count": null,
   "id": "bb44715a",
   "metadata": {},
   "outputs": [],
   "source": []
  },
  {
   "cell_type": "markdown",
   "id": "4cb69485",
   "metadata": {},
   "source": [
    "## Giá trị trả về của hàm"
   ]
  },
  {
   "cell_type": "markdown",
   "id": "e4fac396",
   "metadata": {},
   "source": [
    "\n",
    "# return\n",
    "\n",
    "Cú pháp:\n",
    "\n",
    "`return <giá trị trả về>`\n",
    "\n",
    "##### Lưu ý: Sau khi thực hiện lệnh return, chương trình sẽ thoát khỏi hàm ngay lập tức (những lệnh sau đó không được thực hiện)\n",
    "\n",
    "Ví dụ:\n",
    "\n",
    "Hãy viết 1 hàm trả về giá trị trung bình của 2 số bất kỳ"
   ]
  },
  {
   "cell_type": "code",
   "execution_count": null,
   "id": "028b09bc",
   "metadata": {},
   "outputs": [],
   "source": []
  },
  {
   "cell_type": "code",
   "execution_count": null,
   "id": "24592238",
   "metadata": {},
   "outputs": [],
   "source": [
    "# Hàm tính chiều dài của chuỗi"
   ]
  },
  {
   "cell_type": "code",
   "execution_count": null,
   "id": "56d947d8",
   "metadata": {},
   "outputs": [],
   "source": [
    "# Hàm tính lũy thừa"
   ]
  },
  {
   "cell_type": "code",
   "execution_count": null,
   "id": "0178d43e",
   "metadata": {},
   "outputs": [],
   "source": [
    "# Hàm kiểm tra năm nhuận"
   ]
  }
 ],
 "metadata": {
  "kernelspec": {
   "display_name": "Python 3 (ipykernel)",
   "language": "python",
   "name": "python3"
  },
  "language_info": {
   "codemirror_mode": {
    "name": "ipython",
    "version": 3
   },
   "file_extension": ".py",
   "mimetype": "text/x-python",
   "name": "python",
   "nbconvert_exporter": "python",
   "pygments_lexer": "ipython3",
   "version": "3.10.2"
  }
 },
 "nbformat": 4,
 "nbformat_minor": 5
}
