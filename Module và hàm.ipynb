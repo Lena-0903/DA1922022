{
 "cells": [
  {
   "cell_type": "markdown",
   "id": "05948314",
   "metadata": {},
   "source": [
    "# Function"
   ]
  },
  {
   "cell_type": "code",
   "execution_count": 1,
   "id": "706add2a",
   "metadata": {},
   "outputs": [
    {
     "name": "stdout",
     "output_type": "stream",
     "text": [
      "nhập tên hv 1: Na\n",
      "nhập tên hv 2: Trang\n",
      "nhập tên hv 3: Thảo\n",
      "Na\n",
      "Trang\n",
      "Thảo\n"
     ]
    }
   ],
   "source": [
    "# viết chương trình nhập vào tên của 3 hv khác nhau và in ra tên 3 hv đó \n",
    "name1 = input(\"nhập tên hv 1: \")\n",
    "name2 = input(\"nhập tên hv 2: \")\n",
    "name3 = input(\"nhập tên hv 3: \")\n",
    "print(name1)\n",
    "print(name2)\n",
    "print(name3)"
   ]
  },
  {
   "cell_type": "code",
   "execution_count": 2,
   "id": "eba3ea2d",
   "metadata": {},
   "outputs": [
    {
     "name": "stdout",
     "output_type": "stream",
     "text": [
      "Nhập tên học viên 1: na\n",
      "na\n",
      "Nhập tên học viên 2: trong\n",
      "trong\n",
      "Nhập tên học viên 3: lan\n",
      "lan\n",
      "Tên dài nhất có 5 kí tự\n"
     ]
    }
   ],
   "source": [
    "# viết chương trình nhập vào tên 3 hv khác nhau và in ra tên 3 hv đó, sau đó cho biết tên dài nhất có bn ký tự\n",
    "a = 0\n",
    "for i in range(3):\n",
    "    ten = str(input(f\"Nhập tên học viên {i+1}: \"))\n",
    "    print(ten)\n",
    "    if len(ten) > a:\n",
    "        a = len(ten)\n",
    "print(f\"Tên dài nhất có {a} kí tự\")"
   ]
  },
  {
   "cell_type": "code",
   "execution_count": null,
   "id": "01c3dfa1",
   "metadata": {},
   "outputs": [],
   "source": [
    "name1 = input(\"nhập tên hv 1: \")\n",
    "name2 = input(\"nhập tên hv 2: \")\n",
    "name3 = input(\"nhập tên hv 3: \")\n",
    "if len(name1)>len(name2):\n",
    "    len(name1)>len(name3):\n",
    "        print(f\"tên dài nhất có {len})\n",
    "    "
   ]
  },
  {
   "cell_type": "markdown",
   "id": "3b68247e",
   "metadata": {},
   "source": [
    "## Function(hàm) là gì?"
   ]
  },
  {
   "cell_type": "markdown",
   "id": "cf84a685",
   "metadata": {},
   "source": [
    "Hàm (function) là một khối lệnh đặc biệt, nó được đặt tên, giúp mã chương trình dễ đọc hơn, và có thể gọi để sử dụng ở các nơi khác nhau trong chương trình. Hàm chính là khối lệnh có thể tái sử dụng (reuseable)."
   ]
  },
  {
   "cell_type": "markdown",
   "id": "3636c8b1",
   "metadata": {},
   "source": [
    "### Hàm\n",
    "\n",
    "Cú pháp:\n",
    "\n",
    "`def <tên hàm>(<tham số>):\n",
    "    //Nội dung hàm`\n",
    "\n",
    "Gọi hàm:\n",
    "`<tên hàm>(<giá trị đầu vào>)`"
   ]
  },
  {
   "cell_type": "markdown",
   "id": "18f95aa8",
   "metadata": {},
   "source": [
    "### Ví dụ: Hàm in"
   ]
  },
  {
   "cell_type": "code",
   "execution_count": 3,
   "id": "0753ca43",
   "metadata": {},
   "outputs": [
    {
     "name": "stdout",
     "output_type": "stream",
     "text": [
      "Hellooooo\n"
     ]
    }
   ],
   "source": [
    "print(\"Hellooooo\")"
   ]
  },
  {
   "cell_type": "markdown",
   "id": "29c55e2b",
   "metadata": {},
   "source": [
    "### Ví dụ: Hàm tính giá trị tuyệt đối"
   ]
  },
  {
   "cell_type": "code",
   "execution_count": 4,
   "id": "e492700a",
   "metadata": {},
   "outputs": [
    {
     "data": {
      "text/plain": [
       "2"
      ]
     },
     "execution_count": 4,
     "metadata": {},
     "output_type": "execute_result"
    }
   ],
   "source": [
    "abs(-2)"
   ]
  },
  {
   "cell_type": "markdown",
   "id": "07fa617d",
   "metadata": {},
   "source": [
    "### Ví dụ: Hàm vẽ hình tròn"
   ]
  },
  {
   "cell_type": "code",
   "execution_count": 5,
   "id": "2a2dec85",
   "metadata": {},
   "outputs": [
    {
     "ename": "TypeError",
     "evalue": "TNavigator.circle() missing 1 required positional argument: 'radius'",
     "output_type": "error",
     "traceback": [
      "\u001b[1;31m---------------------------------------------------------------------------\u001b[0m",
      "\u001b[1;31mTypeError\u001b[0m                                 Traceback (most recent call last)",
      "Input \u001b[1;32mIn [5]\u001b[0m, in \u001b[0;36m<module>\u001b[1;34m\u001b[0m\n\u001b[0;32m      1\u001b[0m \u001b[38;5;28;01mimport\u001b[39;00m \u001b[38;5;21;01mturtle\u001b[39;00m\n\u001b[0;32m      2\u001b[0m pen \u001b[38;5;241m=\u001b[39m turtle\u001b[38;5;241m.\u001b[39mTurtle\n\u001b[1;32m----> 3\u001b[0m \u001b[43mpen\u001b[49m\u001b[38;5;241;43m.\u001b[39;49m\u001b[43mcircle\u001b[49m\u001b[43m(\u001b[49m\u001b[38;5;241;43m10\u001b[39;49m\u001b[43m,\u001b[49m\u001b[43m \u001b[49m\u001b[43msteps\u001b[49m\u001b[43m \u001b[49m\u001b[38;5;241;43m=\u001b[39;49m\u001b[43m \u001b[49m\u001b[38;5;241;43m3\u001b[39;49m\u001b[43m)\u001b[49m\n\u001b[0;32m      4\u001b[0m turtle\u001b[38;5;241m.\u001b[39mdone()\n",
      "\u001b[1;31mTypeError\u001b[0m: TNavigator.circle() missing 1 required positional argument: 'radius'"
     ]
    }
   ],
   "source": [
    "import turtle\n",
    "pen = turtle.Turtle\n",
    "pen.circle(10, steps = 3)\n",
    "turtle.done()"
   ]
  },
  {
   "cell_type": "markdown",
   "id": "c4575e29",
   "metadata": {},
   "source": [
    "## Xây dựng và sử dụng hàm trong python"
   ]
  },
  {
   "cell_type": "markdown",
   "id": "00ac6720",
   "metadata": {},
   "source": [
    "### Hàm say_hello"
   ]
  },
  {
   "cell_type": "code",
   "execution_count": 7,
   "id": "47575691",
   "metadata": {},
   "outputs": [],
   "source": [
    "# tạo ra 1 hàm say_hello để in \"hello world\" ra màn hình\n",
    "def say_hello():\n",
    "    print(\"hello world\")\n"
   ]
  },
  {
   "cell_type": "code",
   "execution_count": 8,
   "id": "5a1785ca",
   "metadata": {},
   "outputs": [
    {
     "name": "stdout",
     "output_type": "stream",
     "text": [
      "hello world\n"
     ]
    }
   ],
   "source": [
    "say_hello()"
   ]
  },
  {
   "cell_type": "markdown",
   "id": "f9b6f894",
   "metadata": {},
   "source": [
    "### Hàm vẽ cây thông"
   ]
  },
  {
   "cell_type": "code",
   "execution_count": 14,
   "id": "0994ceed",
   "metadata": {},
   "outputs": [],
   "source": [
    "import turtle\n",
    "def cay_thong():\n",
    "    pen = Turtle()\n",
    "    pen.speed(9)\n",
    "\n",
    "# ve la cay\n",
    "\n",
    "    pen.pencolor(\"#21610B\")\n",
    "             \n",
    "    pen.fillcolor(\"#21610B\")\n",
    "    pen.begin_fill()\n",
    "\n",
    "    pen.right(180)\n",
    "    pen.goto(0,40)\n",
    "    pen.circle(50, steps = 3)\n",
    "    pen.end_fill()\n",
    "\n",
    "    pen.penup()\n",
    "    pen.goto(0,10)\n",
    "    pen.pendown()\n",
    "\n",
    "    pen.fillcolor(\"#21610B\")\n",
    "    pen.begin_fill()\n",
    "\n",
    "\n",
    "    pen.circle(50, steps = 3)\n",
    "    pen.end_fill()\n",
    "\n",
    "    pen.penup()\n",
    "    pen.goto(0,-20)\n",
    "    pen.pendown()\n",
    "\n",
    "    pen.fillcolor(\"#21610B\")\n",
    "    pen.begin_fill()\n",
    "\n",
    "\n",
    "    pen.circle(50, steps = 3)\n",
    "    pen.end_fill()\n",
    "\n",
    "    # ve than cay\n",
    "    pen.penup()\n",
    "    pen.goto(19,-95)\n",
    "    pen.pendown()\n",
    "\n",
    "    pen.pencolor(\"#886A08\")\n",
    "\n",
    "    pen.fillcolor(\"#886A08\")\n",
    "    pen.begin_fill()\n",
    "\n",
    "    pen.left(90)\n",
    "\n",
    "    pen.forward(100)\n",
    "    pen.right(90)\n",
    "    pen.forward(40)\n",
    "    pen.right(90)\n",
    "    pen.forward(100)\n",
    "    pen.right(90)\n",
    "    pen.forward(40)\n",
    "\n",
    "    pen.end_fill()\n",
    "\n",
    "\n",
    "    turtle.done()"
   ]
  },
  {
   "cell_type": "code",
   "execution_count": 15,
   "id": "b75b043d",
   "metadata": {},
   "outputs": [
    {
     "ename": "NameError",
     "evalue": "name 'Turtle' is not defined",
     "output_type": "error",
     "traceback": [
      "\u001b[1;31m---------------------------------------------------------------------------\u001b[0m",
      "\u001b[1;31mNameError\u001b[0m                                 Traceback (most recent call last)",
      "Input \u001b[1;32mIn [15]\u001b[0m, in \u001b[0;36m<module>\u001b[1;34m\u001b[0m\n\u001b[1;32m----> 1\u001b[0m \u001b[43mcay_thong\u001b[49m\u001b[43m(\u001b[49m\u001b[43m)\u001b[49m\n",
      "Input \u001b[1;32mIn [14]\u001b[0m, in \u001b[0;36mcay_thong\u001b[1;34m()\u001b[0m\n\u001b[0;32m      2\u001b[0m \u001b[38;5;28;01mdef\u001b[39;00m \u001b[38;5;21mcay_thong\u001b[39m():\n\u001b[1;32m----> 3\u001b[0m     pen \u001b[38;5;241m=\u001b[39m \u001b[43mTurtle\u001b[49m()\n\u001b[0;32m      4\u001b[0m     pen\u001b[38;5;241m.\u001b[39mspeed(\u001b[38;5;241m9\u001b[39m)\n\u001b[0;32m      6\u001b[0m \u001b[38;5;66;03m# ve la cay\u001b[39;00m\n",
      "\u001b[1;31mNameError\u001b[0m: name 'Turtle' is not defined"
     ]
    }
   ],
   "source": [
    "cay_thong()"
   ]
  },
  {
   "attachments": {
    "image.png": {
     "image/png": "[encoded data removed]"
    }
   },
   "cell_type": "markdown",
   "id": "08fa2b6b",
   "metadata": {},
   "source": [
    "### Thực hành: Viết hàm vẽ ra hình ảnh như dưới đây:\n",
    "![image.png](attachment:image.png)"
   ]
  },
  {
   "cell_type": "code",
   "execution_count": 26,
   "id": "b3161e2c",
   "metadata": {},
   "outputs": [],
   "source": [
    "import turtle\n",
    "def hinh_tron():\n",
    "    pen = turtle.Turtle()\n",
    "    pen.circle(10)\n",
    "    pen.penup()\n",
    "    pen.goto(0, -10)\n",
    "    pen.pendown()\n",
    "    pen.circle(20)\n",
    "    pen.penup()\n",
    "    pen.goto(0, -20)\n",
    "    pen.pendown()\n",
    "    pen.circle(30)\n",
    "    pen.penup()\n",
    "    pen.goto(0, -30)\n",
    "    pen.pendown()\n",
    "    pen.circle(40)\n",
    "    pen.penup()\n",
    "    pen.goto(0, -40)\n",
    "    pen.pendown()\n",
    "    pen.circle(50)\n",
    "\n",
    "\n",
    "    turtle.done()"
   ]
  },
  {
   "cell_type": "code",
   "execution_count": null,
   "id": "1432b755",
   "metadata": {},
   "outputs": [],
   "source": [
    "hinh_tron()"
   ]
  },
  {
   "cell_type": "markdown",
   "id": "77fa1ef1",
   "metadata": {},
   "source": [
    "## doc_string cho hàm (xem ghi chú của hàm)\n"
   ]
  },
  {
   "cell_type": "code",
   "execution_count": 14,
   "id": "8dcf448b",
   "metadata": {},
   "outputs": [],
   "source": [
    "# Hàm tính chu vi hình chữ nhật\n",
    "def calc_chuvi_hinhchunhat():\n",
    "    ''' hàm này dùng để tính chu vi hình chữ nhật.'''\n",
    "    pass\n"
   ]
  },
  {
   "cell_type": "code",
   "execution_count": 15,
   "id": "f338da88",
   "metadata": {
    "scrolled": true
   },
   "outputs": [
    {
     "data": {
      "text/plain": [
       "' hàm này dùng để tính chu vi hình chữ nhật.'"
      ]
     },
     "execution_count": 15,
     "metadata": {},
     "output_type": "execute_result"
    }
   ],
   "source": [
    "calc_chuvi_hinhchunhat.__doc__\n"
   ]
  },
  {
   "cell_type": "code",
   "execution_count": 16,
   "id": "3b2010e6",
   "metadata": {
    "scrolled": true
   },
   "outputs": [
    {
     "data": {
      "text/plain": [
       "\"print(value, ..., sep=' ', end='\\\\n', file=sys.stdout, flush=False)\\n\\nPrints the values to a stream, or to sys.stdout by default.\\nOptional keyword arguments:\\nfile:  a file-like object (stream); defaults to the current sys.stdout.\\nsep:   string inserted between values, default a space.\\nend:   string appended after the last value, default a newline.\\nflush: whether to forcibly flush the stream.\""
      ]
     },
     "execution_count": 16,
     "metadata": {},
     "output_type": "execute_result"
    }
   ],
   "source": [
    "print.__doc__"
   ]
  },
  {
   "cell_type": "code",
   "execution_count": 17,
   "id": "64636c49",
   "metadata": {},
   "outputs": [
    {
     "name": "stdout",
     "output_type": "stream",
     "text": [
      "Help on built-in function print in module builtins:\n",
      "\n",
      "print(...)\n",
      "    print(value, ..., sep=' ', end='\\n', file=sys.stdout, flush=False)\n",
      "    \n",
      "    Prints the values to a stream, or to sys.stdout by default.\n",
      "    Optional keyword arguments:\n",
      "    file:  a file-like object (stream); defaults to the current sys.stdout.\n",
      "    sep:   string inserted between values, default a space.\n",
      "    end:   string appended after the last value, default a newline.\n",
      "    flush: whether to forcibly flush the stream.\n",
      "\n"
     ]
    }
   ],
   "source": [
    "help(print)"
   ]
  },
  {
   "cell_type": "code",
   "execution_count": 22,
   "id": "a7dc57e9",
   "metadata": {},
   "outputs": [],
   "source": [
    "# Hàm xếp loại học sinh\n",
    "# viết hàm nhập vào điểm trung bình của học sinh và in ra học lực của học sinh đó theo quy tắc sau:\n",
    "# nếu trung bình >= 8 thì là học sinh giỏi\n",
    "# nếu trung bình >= 5 thì là học sinh khá\n",
    "# ngược lại thì là học sinh trung bình\n",
    "def xep_loai():\n",
    "    diem = float(input(\"nhập điểm trung bình: \"))\n",
    "    if diem >= 8:\n",
    "        print(\"học sinh giỏi\")\n",
    "    elif 5<=diem <=8:\n",
    "        print(\"học sinh khá\")\n",
    "    else: print(\"học sinh trung bình\")"
   ]
  },
  {
   "cell_type": "code",
   "execution_count": 23,
   "id": "dd92a58b",
   "metadata": {},
   "outputs": [
    {
     "name": "stdout",
     "output_type": "stream",
     "text": [
      "nhập điểm trung bình: 7.6\n",
      "học sinh khá\n"
     ]
    }
   ],
   "source": [
    "xep_loai()"
   ]
  },
  {
   "cell_type": "markdown",
   "id": "0c5f3f35",
   "metadata": {},
   "source": [
    "## Phạm vi biến"
   ]
  },
  {
   "cell_type": "code",
   "execution_count": 7,
   "id": "b332222c",
   "metadata": {
    "scrolled": false
   },
   "outputs": [
    {
     "name": "stdout",
     "output_type": "stream",
     "text": [
      "55\n"
     ]
    },
    {
     "ename": "NameError",
     "evalue": "name 'tong' is not defined",
     "output_type": "error",
     "traceback": [
      "\u001b[1;31m---------------------------------------------------------------------------\u001b[0m",
      "\u001b[1;31mNameError\u001b[0m                                 Traceback (most recent call last)",
      "Input \u001b[1;32mIn [7]\u001b[0m, in \u001b[0;36m<module>\u001b[1;34m\u001b[0m\n\u001b[0;32m      8\u001b[0m     \u001b[38;5;28mprint\u001b[39m(tong)\n\u001b[0;32m      9\u001b[0m calc_sum1_to_10()\n\u001b[1;32m---> 10\u001b[0m \u001b[38;5;28mprint\u001b[39m(\u001b[43mtong\u001b[49m)\n",
      "\u001b[1;31mNameError\u001b[0m: name 'tong' is not defined"
     ]
    }
   ],
   "source": [
    "# Hàm tính tổng các số từ 1 đến 10\n",
    "# tất cả biến tạo ra bên trong hàm thì chỉ có hiệu lực bên trong hàm, khi hàm kết thúc thì biến sẽ bị xóa đi\n",
    "\n",
    "def calc_sum1_to_10():\n",
    "    tong = 0\n",
    "    for i in range(11):\n",
    "        tong += i\n",
    "    print(tong)\n",
    "calc_sum1_to_10()\n",
    "print(tong)"
   ]
  },
  {
   "cell_type": "code",
   "execution_count": 11,
   "id": "b5ffb2f8",
   "metadata": {},
   "outputs": [],
   "source": [
    "day = 22 # biến global \n",
    "\n",
    "def print_day():\n",
    "    day = 23 # biến nội bộ (local)chỉ có giá trị bên trong hàm\n",
    "    print(day)\n",
    "    "
   ]
  },
  {
   "cell_type": "code",
   "execution_count": 12,
   "id": "f1d59ece",
   "metadata": {},
   "outputs": [
    {
     "name": "stdout",
     "output_type": "stream",
     "text": [
      "22\n"
     ]
    }
   ],
   "source": [
    "print_day()"
   ]
  },
  {
   "cell_type": "code",
   "execution_count": 13,
   "id": "be61ae7f",
   "metadata": {
    "scrolled": true
   },
   "outputs": [
    {
     "name": "stdout",
     "output_type": "stream",
     "text": [
      "22\n"
     ]
    }
   ],
   "source": [
    "print(day)"
   ]
  },
  {
   "cell_type": "code",
   "execution_count": null,
   "id": "5f28e6a4",
   "metadata": {},
   "outputs": [],
   "source": []
  },
  {
   "cell_type": "markdown",
   "id": "7407e8fe",
   "metadata": {},
   "source": [
    "## Đối số của hàm"
   ]
  },
  {
   "cell_type": "code",
   "execution_count": 25,
   "id": "f5787950",
   "metadata": {},
   "outputs": [
    {
     "name": "stdout",
     "output_type": "stream",
     "text": [
      "125\n"
     ]
    }
   ],
   "source": [
    "# Hàm tính thể tích hình lập phương\n",
    "def calc_thetich_hinhlapphuong(canh):\n",
    "    the_tich = canh **3\n",
    "    print(the_tich)\n",
    "calc_thetich_hinhlapphuong(5)"
   ]
  },
  {
   "cell_type": "code",
   "execution_count": 26,
   "id": "8d1bc23b",
   "metadata": {},
   "outputs": [],
   "source": [
    "# Hàm xếp loại học sinh\n",
    "def xep_loai(diem):\n",
    "    if diem >= 8:\n",
    "        print(\"học sinh giỏi\")\n",
    "    elif 5<= diem <=8:\n",
    "        print(\"học sinh khá\")\n",
    "    else: print(\"học sinh trung bình\")"
   ]
  },
  {
   "cell_type": "code",
   "execution_count": 28,
   "id": "d9782a68",
   "metadata": {},
   "outputs": [
    {
     "name": "stdout",
     "output_type": "stream",
     "text": [
      "học sinh khá\n"
     ]
    }
   ],
   "source": [
    "xep_loai(6)"
   ]
  },
  {
   "cell_type": "markdown",
   "id": "1eee19a7",
   "metadata": {},
   "source": [
    "### Thực hành: Viết hàm nhận vào một số nguyên và kiểm tra xem số đó có phải là số nguyên tố hay không.\n"
   ]
  },
  {
   "cell_type": "code",
   "execution_count": 30,
   "id": "d3c5d3a9",
   "metadata": {},
   "outputs": [],
   "source": [
    "def check_songuyento(number):\n",
    "    i=2\n",
    "    flag = True\n",
    "    while i<number:\n",
    "        if number % i == 0:\n",
    "            flag = False\n",
    "            print(f\"{number} không phải số nguyên tố\")\n",
    "            break\n",
    "        i +=1\n",
    "    if flag:\n",
    "        print(f\"{number} là số nguyên tố\")\n",
    "    "
   ]
  },
  {
   "cell_type": "code",
   "execution_count": 32,
   "id": "cab1218c",
   "metadata": {},
   "outputs": [
    {
     "name": "stdout",
     "output_type": "stream",
     "text": [
      "6 không phải số nguyên tố\n"
     ]
    }
   ],
   "source": [
    "check_songuyento(6)"
   ]
  },
  {
   "cell_type": "markdown",
   "id": "dea3b237",
   "metadata": {},
   "source": [
    "## Đối số có giá trị mặc định"
   ]
  },
  {
   "cell_type": "code",
   "execution_count": 6,
   "id": "8e871a22",
   "metadata": {},
   "outputs": [
    {
     "name": "stdout",
     "output_type": "stream",
     "text": [
      "Hello Long, how are you ?\n"
     ]
    }
   ],
   "source": [
    "# viết hàm greeting() nhận vào 'name' và 'sentence', sau đó in ra câu chào tương ứng\n",
    "def greetings(name, sentence=\"how are you\"):\n",
    "    print(f\"Hello {name}, {sentence} ?\")\n",
    "greetings('Long')"
   ]
  },
  {
   "cell_type": "code",
   "execution_count": null,
   "id": "bb44715a",
   "metadata": {},
   "outputs": [],
   "source": []
  },
  {
   "cell_type": "markdown",
   "id": "4cb69485",
   "metadata": {},
   "source": [
    "## Giá trị trả về của hàm"
   ]
  },
  {
   "cell_type": "markdown",
   "id": "e4fac396",
   "metadata": {},
   "source": [
    "\n",
    "# return\n",
    "\n",
    "Cú pháp:\n",
    "\n",
    "`return <giá trị trả về>`\n",
    "\n",
    "##### Lưu ý: Sau khi thực hiện lệnh return, chương trình sẽ thoát khỏi hàm ngay lập tức (những lệnh sau đó không được thực hiện)\n",
    "\n",
    "Ví dụ:\n",
    "\n",
    "Hãy viết 1 hàm trả về giá trị trung bình của 2 số bất kỳ"
   ]
  },
  {
   "cell_type": "code",
   "execution_count": 9,
   "id": "028b09bc",
   "metadata": {},
   "outputs": [
    {
     "name": "stdout",
     "output_type": "stream",
     "text": [
      "4.0\n"
     ]
    }
   ],
   "source": [
    "def calc_average(num1, num2):\n",
    "    average = (num1+num2)/2\n",
    "    return average\n",
    "\n",
    "result = calc_average(3,5)\n",
    "print(result)"
   ]
  },
  {
   "cell_type": "code",
   "execution_count": 31,
   "id": "24592238",
   "metadata": {},
   "outputs": [
    {
     "name": "stdout",
     "output_type": "stream",
     "text": [
      "6\n"
     ]
    }
   ],
   "source": [
    "# Hàm tính chiều dài của chuỗi\n",
    "def string_len(string):\n",
    "    return (len(string))\n",
    "\n",
    "result = string_len(\"python\")\n",
    "print(result)"
   ]
  },
  {
   "cell_type": "code",
   "execution_count": 43,
   "id": "56d947d8",
   "metadata": {},
   "outputs": [
    {
     "name": "stdout",
     "output_type": "stream",
     "text": [
      "1\n"
     ]
    }
   ],
   "source": [
    "# Hàm tính giai thừa\n",
    "def calc_factorial(num):\n",
    "    if(num == 0 or num == 1):\n",
    "        return 1\n",
    "    else:\n",
    "        giai_thua = 1\n",
    "        for i in range(2,num + 1):\n",
    "            giai_thua = giai_thua*i\n",
    "        return giai_thua\n",
    "\n",
    "result = calc_factorial(0)\n",
    "print(result)"
   ]
  },
  {
   "cell_type": "code",
   "execution_count": 34,
   "id": "0178d43e",
   "metadata": {},
   "outputs": [
    {
     "name": "stdout",
     "output_type": "stream",
     "text": [
      "True\n"
     ]
    }
   ],
   "source": [
    "# Hàm kiểm tra năm nhuận\n",
    "def is_leap_year(year):\n",
    "    return ((year % 400 == 0) or ((year % 4 == 0) and (year % 100 != 0)))\n",
    "\n",
    "if is_leap_year(2000):\n",
    "    print(\"True\")\n",
    "else:\n",
    "    print(\"False\")\n",
    "        "
   ]
  },
  {
   "cell_type": "code",
   "execution_count": 45,
   "id": "ee98e555",
   "metadata": {},
   "outputs": [
    {
     "name": "stdout",
     "output_type": "stream",
     "text": [
      "False\n"
     ]
    }
   ],
   "source": [
    "def is_leap_year(year):\n",
    "    if (year % 400 == 0) or ((year % 4 == 0) and (year % 100)):\n",
    "        return True\n",
    "    return False\n",
    "result = is_leap_year(2001)\n",
    "print(result)"
   ]
  }
 ],
 "metadata": {
  "kernelspec": {
   "display_name": "Python 3 (ipykernel)",
   "language": "python",
   "name": "python3"
  },
  "language_info": {
   "codemirror_mode": {
    "name": "ipython",
    "version": 3
   },
   "file_extension": ".py",
   "mimetype": "text/x-python",
   "name": "python",
   "nbconvert_exporter": "python",
   "pygments_lexer": "ipython3",
   "version": "3.10.2"
  }
 },
 "nbformat": 4,
 "nbformat_minor": 5
}
