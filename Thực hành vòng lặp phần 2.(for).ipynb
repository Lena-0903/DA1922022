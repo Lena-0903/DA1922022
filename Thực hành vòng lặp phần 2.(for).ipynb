{
 "cells": [
  {
   "cell_type": "code",
   "execution_count": 2,
   "id": "7c279d99",
   "metadata": {},
   "outputs": [
    {
     "name": "stdout",
     "output_type": "stream",
     "text": [
      "1\n",
      "2\n",
      "3\n",
      "4\n",
      "5\n",
      "6\n",
      "7\n",
      "8\n",
      "9\n",
      "10\n"
     ]
    }
   ],
   "source": [
    "'''\n",
    "Warm-up: In ra 10 số tự nhiên đầu tiên từ 1 đến 10\n",
    "'''\n",
    "for i in range(1, 11, 1):\n",
    "    print(i)"
   ]
  },
  {
   "cell_type": "code",
   "execution_count": 6,
   "id": "66918d7e",
   "metadata": {},
   "outputs": [
    {
     "name": "stdout",
     "output_type": "stream",
     "text": [
      "nhập vào số n: 4\n",
      "tổng bằng 10\n"
     ]
    }
   ],
   "source": [
    "'''\n",
    "Bài 1: Nhập vào số nguyên dương n. Tính tổng các số tự nhiên từ 1 đến n.\n",
    "'''\n",
    "n = int(input(\"nhập vào số n: \"))\n",
    "tong = 0\n",
    "for i in range(1,n+1):\n",
    "    tong += i\n",
    "print(f\"tổng bằng {tong}\")\n",
    "    \n",
    "\n",
    "    "
   ]
  },
  {
   "cell_type": "code",
   "execution_count": 14,
   "id": "be255bdc",
   "metadata": {},
   "outputs": [
    {
     "name": "stdout",
     "output_type": "stream",
     "text": [
      " nhập vào số nguyên dương n : 4\n",
      "bảng cửu chương từ 1 đến 10 của n là :\n",
      "1*4 = 4\n",
      "2*4 = 8\n",
      "3*4 = 12\n",
      "4*4 = 16\n",
      "5*4 = 20\n",
      "6*4 = 24\n",
      "7*4 = 28\n",
      "8*4 = 32\n",
      "9*4 = 36\n",
      "10*4 = 40\n"
     ]
    }
   ],
   "source": [
    "'''\n",
    "Bài 2: Nhập vào số nguyên dương n. In ra bảng cửu chương từ 1 đến 10 của n.\n",
    "'''\n",
    "n = int(input(\" nhập vào số nguyên dương n : \"))\n",
    "print(\"bảng cửu chương từ 1 đến 10 của n là :\")\n",
    "for i in range(0,10,1) :\n",
    "    print(f\"{i+1}*{n}\",\"=\",(i+1)*n)\n",
    "\n",
    "    "
   ]
  },
  {
   "cell_type": "code",
   "execution_count": 15,
   "id": "681c029c",
   "metadata": {},
   "outputs": [
    {
     "name": "stdout",
     "output_type": "stream",
     "text": [
      "Nhập n: 8377643\n",
      "5\n"
     ]
    }
   ],
   "source": [
    "'''\n",
    "Bài 3: Nhập vào số nguyên dương n. Đếm xem n có bao nhiêu chữ số.\n",
    "'''\n",
    "n = str(input(\"Nhập n: \"))\n",
    "count = 0\n",
    "for i in range(len(n)):\n",
    "    a = n[0:i+1]\n",
    "    if a.count(n[i]) == 1:\n",
    "        count += 1\n",
    "print(count)"
   ]
  },
  {
   "cell_type": "code",
   "execution_count": 16,
   "id": "cf9486fc",
   "metadata": {},
   "outputs": [
    {
     "name": "stdout",
     "output_type": "stream",
     "text": [
      "nhap so nguyen duong n = 8377643\n",
      "n co 7 chu so\n"
     ]
    }
   ],
   "source": [
    "n = int(input(\"nhap so nguyen duong n = \"))\n",
    "\n",
    "if n < 10:\n",
    "    print(\"n co 1 chu so\")\n",
    "    \n",
    "else:\n",
    "    count = 1\n",
    "    while (n / 10) > 1:\n",
    "        n = n / 10\n",
    "        count = count + 1\n",
    "    print(\"n co\",count,\"chu so\")"
   ]
  },
  {
   "cell_type": "code",
   "execution_count": 17,
   "id": "1b2131ce",
   "metadata": {},
   "outputs": [
    {
     "name": "stdout",
     "output_type": "stream",
     "text": [
      " nhập vào số nguyên dương n : 8377643\n",
      "Số nguyên dương n có 7 chữ số\n"
     ]
    }
   ],
   "source": [
    "\n",
    "n = int(input(\" nhập vào số nguyên dương n : \"))\n",
    "i = 0\n",
    "while 10**i <= n :\n",
    "    i = i + 1\n",
    "else :\n",
    "    print(f\"Số nguyên dương n có {i} chữ số\")"
   ]
  },
  {
   "cell_type": "code",
   "execution_count": 18,
   "id": "7eb58122",
   "metadata": {},
   "outputs": [
    {
     "name": "stdout",
     "output_type": "stream",
     "text": [
      "n: 12345\n",
      "15\n"
     ]
    }
   ],
   "source": [
    "'''\n",
    "Bài 4: Nhập vào số nguyên dương n. Tính tổng các chữ số của n.\n",
    "'''\n",
    "n = int(input(\"n: \"))\n",
    "s = 0\n",
    "j = 0\n",
    "while n > 0:\n",
    "    j = n % 10\n",
    "    n = n//10\n",
    "    s += j\n",
    "print(s)"
   ]
  },
  {
   "cell_type": "code",
   "execution_count": 29,
   "id": "f7761aee",
   "metadata": {},
   "outputs": [
    {
     "name": "stdout",
     "output_type": "stream",
     "text": [
      "Nhập n: 12345\n",
      "15\n"
     ]
    }
   ],
   "source": [
    "n = int(input(\"Nhập n: \"))\n",
    "tong = 0\n",
    "\n",
    "while n > 0:\n",
    "    tong += n % 10\n",
    "    n //= 10\n",
    "print(tong)"
   ]
  },
  {
   "cell_type": "code",
   "execution_count": 26,
   "id": "cf0da697",
   "metadata": {},
   "outputs": [
    {
     "name": "stdout",
     "output_type": "stream",
     "text": [
      "nhập chiều cao tam giác: 4\n",
      "1 \n",
      "1 2 \n",
      "1 2 3 \n",
      "1 2 3 4 \n"
     ]
    }
   ],
   "source": [
    "'''\n",
    "Bài 5: Nhập vào số nguyên dương n. Sử dụng cấu trúc vòng lặp lồng nhau(nested for loop) để in ra tam giác có dạng như sau:\n",
    "1\n",
    "1 2\n",
    "1 2 3\n",
    "1 2 3 4\n",
    "1 2 3 4 5\n",
    "'''\n",
    "height = int(input(\"nhập chiều cao tam giác: \"))\n",
    "for i in range(1, height+1, 1):\n",
    "    for j in range(1, i+1, 1):\n",
    "        print(j, end=' ')\n",
    "    print()\n",
    "        \n",
    "        "
   ]
  },
  {
   "cell_type": "code",
   "execution_count": 19,
   "id": "1ac5d880",
   "metadata": {},
   "outputs": [
    {
     "name": "stdout",
     "output_type": "stream",
     "text": [
      "nhập chiều cao tam giác: 5\n",
      "5 4 3 2 1 \n",
      "4 3 2 1 \n",
      "3 2 1 \n",
      "2 1 \n",
      "1 \n"
     ]
    }
   ],
   "source": [
    "'''\n",
    "Bài 6: Nhập vào số nguyên dương n. Sử dụng cấu trúc vòng lặp lồng nhau(nested for loop) để in ra tam giác có dạng như sau:\n",
    "5 4 3 2 1\n",
    "4 3 2 1\n",
    "3 2 1\n",
    "2 1\n",
    "1\n",
    "'''\n",
    "h= int(input('nhập chiều cao tam giác: '))\n",
    "for i in range(h, 0, -1):\n",
    "    for j in range(i,0,-1):\n",
    "        print(j, end=\" \")\n",
    "    print()\n",
    "    "
   ]
  },
  {
   "cell_type": "code",
   "execution_count": 31,
   "id": "5a16aa66",
   "metadata": {},
   "outputs": [
    {
     "name": "stdout",
     "output_type": "stream",
     "text": [
      "Nhập số nguyên dương n = 5\n",
      "120\n"
     ]
    }
   ],
   "source": [
    "'''\n",
    "Bài 7: Nhập vào một số nguyên dương n. Tính giai thừa của n.\n",
    "Note: Giai thừa của n được tính bằng công thức: n! = n*(n - 1)*(n - 2)*...*1\n",
    "Ví dụ: 5! = 5 × 4 × 3 × 2 × 1 = 120\n",
    "'''\n",
    "n = int(input(\"Nhập số nguyên dương n = \"));\n",
    "giai_thua = 1\n",
    "\n",
    "if n!= 0:\n",
    "    for i in range(1, n+1):\n",
    "        giai_thua *=i\n",
    "print(giai_thua)"
   ]
  },
  {
   "cell_type": "code",
   "execution_count": 32,
   "id": "8dfa4890",
   "metadata": {},
   "outputs": [
    {
     "name": "stdout",
     "output_type": "stream",
     "text": [
      "Nhap so n =12345\n",
      "54321"
     ]
    }
   ],
   "source": [
    "'''\n",
    "Bài 8: Viết chương trình nhập vào một số nguyên dương n và in ra số đảo ngược của n.\n",
    "Ví dụ:\n",
    "Input: 76542\n",
    "Output: 24567\n",
    "'''\n",
    "n = int(input(\"Nhap so n =\"))\n",
    " \n",
    "while (n != 0):\n",
    "    print(n % 10, end=\"\")\n",
    "    n = n // 10 "
   ]
  },
  {
   "cell_type": "code",
   "execution_count": 33,
   "id": "74721701",
   "metadata": {},
   "outputs": [
    {
     "name": "stdout",
     "output_type": "stream",
     "text": [
      "nhập vào số n: 12345\n",
      "54321\n"
     ]
    }
   ],
   "source": [
    "n = str(input(\"nhập vào số n: \"))\n",
    "print(n[::-1])"
   ]
  },
  {
   "cell_type": "code",
   "execution_count": 34,
   "id": "326700db",
   "metadata": {},
   "outputs": [
    {
     "name": "stdout",
     "output_type": "stream",
     "text": [
      "Nhap n: 8\n",
      "1\n",
      "22\n",
      "333\n",
      "4444\n",
      "55555\n",
      "666666\n",
      "7777777\n",
      "88888888\n"
     ]
    }
   ],
   "source": [
    "'''\n",
    "Bài 9: Viết phần mềm nhập vào số n (từ 1 đến 9) và in ra tam giác có dạng như sau:\n",
    "1\n",
    "22\n",
    "333\n",
    "4444\n",
    "55555\n",
    "666666\n",
    "7777777\n",
    "88888888\n",
    "999999999\n",
    "'''\n",
    "n = int(input('Nhap n: '))\n",
    "for i in range (1,n+1):\n",
    "    print(f'{i}' *i)"
   ]
  },
  {
   "cell_type": "code",
   "execution_count": null,
   "id": "bfe2e17f",
   "metadata": {},
   "outputs": [],
   "source": [
    "'''\n",
    "Bonus: Vẽ xe lửa\n",
    "What is the size of your train? 1\n",
    " ______________________>__\n",
    "|]||[]_[]_[]|||[]_[]_[]||[|\n",
    "\\==o-o======o-o======o-o==/\n",
    "\n",
    "What is the size of your train? 2\n",
    " _________________________   ______________________>__\n",
    "|]||[]_[]_[]|||[]_[]_[]||[| |]||[]_[]_[]|||[]_[]_[]||[|\n",
    "\\==o-o======o-o======o-o==/_\\==o-o======o-o======o-o==/\n",
    "'''"
   ]
  }
 ],
 "metadata": {
  "kernelspec": {
   "display_name": "Python 3 (ipykernel)",
   "language": "python",
   "name": "python3"
  },
  "language_info": {
   "codemirror_mode": {
    "name": "ipython",
    "version": 3
   },
   "file_extension": ".py",
   "mimetype": "text/x-python",
   "name": "python",
   "nbconvert_exporter": "python",
   "pygments_lexer": "ipython3",
   "version": "3.10.2"
  }
 },
 "nbformat": 4,
 "nbformat_minor": 5
}
