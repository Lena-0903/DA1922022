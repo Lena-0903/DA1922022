{
 "cells": [
  {
   "cell_type": "code",
   "execution_count": null,
   "id": "1b7705b3",
   "metadata": {},
   "outputs": [],
   "source": [
    "\"\"\"\n",
    "Viết class NhanVien gồm các thuộc tính:\n",
    "+ Tên\n",
    "+ Tuổi\n",
    "+ Địa chỉ\n",
    "+ Tiền lương\n",
    "+ Tổng số giờ làm\n",
    "\n",
    "Và các phương thức:\n",
    "- Phương thức tạo\n",
    "- input_info() : Nhập các thông tin cho nhân viên từ bàn phím\n",
    "- print_info() : In ra tất cả các thông tin của nhân viên\n",
    "- tinh_thuong(): Tính toán và trả về số tiền thưởng của nhân viên theo công thức sau:\n",
    "Nếu tổng số giờ làm của nhân viên >=200 thì thưởng = lương * 20%\n",
    "Nếu tổng số giờ làm của nhân viên <200 và >=100 thì thưởng = lương * 10%\n",
    "Nếu tổng số giờ làm của nhân viên <100 thì thưởng = 0\n",
    "\"\"\""
   ]
  },
  {
   "cell_type": "code",
   "execution_count": 30,
   "id": "3cf0f41d",
   "metadata": {},
   "outputs": [],
   "source": [
    "class NhanVien:\n",
    "    def __init__(self):\n",
    "        self.ten = ''\n",
    "        self.tuoi = 0\n",
    "        self.dia_chi = ''\n",
    "        self.tien_luong = 0\n",
    "        self.tong_gio_lam = 0\n",
    "        \n",
    "    def nhap_thong_tin(self):\n",
    "        self.ten = input(\"nhập tên nhân viên: \")\n",
    "        self.tuoi = int(input(\"nhập tuổi nhân viên: \"))\n",
    "        self.dia_chi = input(\"nhập địa chỉ nhân viên: \")\n",
    "        self.tien_luong = float(input(\"nhập vào thu nhập của nhân viên: \"))\n",
    "        self.tong_gio_lam = float(input(\"nhập tổng giờ làm của nhân viên: \"))\n",
    "        \n",
    "    def in_thong_tin(self):\n",
    "        print(f\"Tên: {self.ten}\")\n",
    "        print(f\"Tuổi: {self.tuoi}\")\n",
    "        print(f\"Địa chỉ: {self.dia_chi}\")\n",
    "        print(f\"Tiền lương: {self.tien_luong}\")\n",
    "        print(f\"Tổng giờ làm: {self.tong_gio_lam}\")\n",
    "    \n",
    "    def tinh_thuong(self):\n",
    "        if self.tong_gio_lam >= 200:\n",
    "            thuong = self.tien_luong * 20/100\n",
    "        elif 100 <= self.tong_gio_lam:\n",
    "            thuong = self.tien_luong * 10/100\n",
    "        else:\n",
    "            thuong = 0\n",
    "        return thuong"
   ]
  },
  {
   "cell_type": "code",
   "execution_count": 32,
   "id": "cca76ff7",
   "metadata": {},
   "outputs": [
    {
     "name": "stdout",
     "output_type": "stream",
     "text": [
      "nhập tên nhân viên: Na\n",
      "nhập tuổi nhân viên: 22\n",
      "nhập địa chỉ nhân viên: Thanh Hóa\n",
      "nhập vào thu nhập của nhân viên: 5000000\n",
      "nhập tổng giờ làm của nhân viên: 200\n",
      "Tên: Na\n",
      "Tuổi: 22\n",
      "Địa chỉ: Thanh Hóa\n",
      "Tiền lương: 5000000.0\n",
      "Tổng giờ làm: 200.0\n",
      "tiền thưởng: 1000000.0\n"
     ]
    }
   ],
   "source": [
    "nhanvien1 = NhanVien()\n",
    "nhanvien1.nhap_thong_tin()\n",
    "\n",
    "nhanvien1.in_thong_tin()\n",
    "\n",
    "print(f\"tiền thưởng: {nhanvien1.tinh_thuong()}\")"
   ]
  }
 ],
 "metadata": {
  "kernelspec": {
   "display_name": "Python 3 (ipykernel)",
   "language": "python",
   "name": "python3"
  },
  "language_info": {
   "codemirror_mode": {
    "name": "ipython",
    "version": 3
   },
   "file_extension": ".py",
   "mimetype": "text/x-python",
   "name": "python",
   "nbconvert_exporter": "python",
   "pygments_lexer": "ipython3",
   "version": "3.10.2"
  }
 },
 "nbformat": 4,
 "nbformat_minor": 5
}
