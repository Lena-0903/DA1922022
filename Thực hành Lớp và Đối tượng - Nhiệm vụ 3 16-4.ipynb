{
 "cells": [
  {
   "cell_type": "code",
   "execution_count": null,
   "id": "a42fa0c7",
   "metadata": {},
   "outputs": [],
   "source": [
    "\"\"\"\n",
    "Tạo class có tên SoHoc gồm có các thuộc tính và phương thức sau:\n",
    "+ Thuộc tính: number1, number2\n",
    "+ Phương thức:\n",
    "- Phương thức tạo __init()__\n",
    "- input_info(): dùng để nhập 2 số number1, number2\n",
    "- print_info(): dùng để hiển thị number1, number2\n",
    "- addition(): dùng để cộng number1, number2\n",
    "- subtract(): trừ number1, number2\n",
    "- multi(): dùng để nhân number1, number2\n",
    "- division(): dùng để chia number1, number2.\n",
    "\n",
    "Sau khi tạo class, khởi tạo một object SoHoc và in ra kết quả tính toán từ các hàm thực hiện phép tính\n",
    "\"\"\""
   ]
  },
  {
   "cell_type": "code",
   "execution_count": 1,
   "id": "d1bd57dd",
   "metadata": {},
   "outputs": [],
   "source": [
    "class SoHoc:\n",
    "    def __init__(self):\n",
    "        self.number1 = 0\n",
    "        self.number2 = 0\n",
    "        \n",
    "    def input_info(self):\n",
    "        self.number1 = float(input(\"Nhập số thứ 1: \"))\n",
    "        self.number2 = float(input(\"Nhập số thứ 2: \"))\n",
    "        \n",
    "    def print_info(self):\n",
    "        print(f\"số thứ 1 là: {self.number1}\")\n",
    "        print(f\"số thứ 2 là: {self.number2}\")\n",
    "        \n",
    "    def addition(self):\n",
    "        add_number = self.number1 + self.number2\n",
    "        return add_number\n",
    "    \n",
    "    def subtract(self):\n",
    "        sub_number = self.number1 - self.number2\n",
    "        return sub_number\n",
    "    \n",
    "    def multi(self):\n",
    "        mul_number = self.number1 * self.number2\n",
    "        return mul_number\n",
    "    \n",
    "    def division(self):\n",
    "        div_number = self.number1 / self.number2\n",
    "        return div_number\n",
    "    \n",
    "        "
   ]
  },
  {
   "cell_type": "code",
   "execution_count": 3,
   "id": "88822f0c",
   "metadata": {},
   "outputs": [
    {
     "name": "stdout",
     "output_type": "stream",
     "text": [
      "Nhập số thứ 1: 3\n",
      "Nhập số thứ 2: 4\n",
      "số thứ 1 là: 3\n",
      "số thứ 2 là: 4\n",
      "Tổng là: 7\n",
      "Hiệu là: -1\n",
      "Tích là: 12\n",
      "Thương là: 0.75\n"
     ]
    }
   ],
   "source": [
    "so1 = SoHoc()\n",
    "\n",
    "so1.input_info()\n",
    "\n",
    "so1.print_info()\n",
    "\n",
    "print(f\"Tổng là: {so1.addition()}\")\n",
    "print(f\"Hiệu là: {so1.subtract()}\")\n",
    "print(f'Tích là: {so1.multi()}')\n",
    "print(f'Thương là: {so1.division()}')\n",
    "\n"
   ]
  },
  {
   "cell_type": "code",
   "execution_count": null,
   "id": "88ae4886",
   "metadata": {},
   "outputs": [],
   "source": []
  }
 ],
 "metadata": {
  "kernelspec": {
   "display_name": "Python 3 (ipykernel)",
   "language": "python",
   "name": "python3"
  },
  "language_info": {
   "codemirror_mode": {
    "name": "ipython",
    "version": 3
   },
   "file_extension": ".py",
   "mimetype": "text/x-python",
   "name": "python",
   "nbconvert_exporter": "python",
   "pygments_lexer": "ipython3",
   "version": "3.10.2"
  }
 },
 "nbformat": 4,
 "nbformat_minor": 5
}
