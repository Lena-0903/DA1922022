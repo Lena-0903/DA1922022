{
 "cells": [
  {
   "cell_type": "code",
   "execution_count": 11,
   "id": "aaf08a87",
   "metadata": {},
   "outputs": [],
   "source": [
    "import turtle\n",
    "pen = turtle.Turtle()\n",
    "\n",
    "pen.penup()\n",
    "pen.goto(-200,0)\n",
    "\n",
    "pen.pendown()\n",
    "pen.forward(150)\n",
    "pen.right(90)\n",
    "pen.forward(200)\n",
    "pen.right(90)\n",
    "pen.forward(150)\n",
    "pen.right(90)\n",
    "pen.forward(200)\n",
    "\n",
    "pen.penup()\n",
    "pen.goto(-100, -200)\n",
    "pen.pendown()\n",
    "\n",
    "pen.forward(70)\n",
    "pen.left(90)\n",
    "pen.forward(50)\n",
    "pen.left(90)\n",
    "pen.forward(70)\n",
    "\n",
    "pen.penup()\n",
    "pen.goto(-50, -200)\n",
    "pen.pendown()\n",
    "\n",
    "pen.left(130)\n",
    "pen.forward(100)\n",
    "pen.left(50)\n",
    "pen.forward(200)\n",
    "pen.left(130)\n",
    "pen.forward(100)\n",
    "\n",
    "pen.right(40)\n",
    "pen.forward(150)\n",
    "\n",
    "\n",
    "turtle.done()"
   ]
  }
 ],
 "metadata": {
  "kernelspec": {
   "display_name": "Python 3 (ipykernel)",
   "language": "python",
   "name": "python3"
  },
  "language_info": {
   "codemirror_mode": {
    "name": "ipython",
    "version": 3
   },
   "file_extension": ".py",
   "mimetype": "text/x-python",
   "name": "python",
   "nbconvert_exporter": "python",
   "pygments_lexer": "ipython3",
   "version": "3.10.2"
  }
 },
 "nbformat": 4,
 "nbformat_minor": 5
}
