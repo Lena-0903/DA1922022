{
 "cells": [
  {
   "cell_type": "code",
   "execution_count": 28,
   "id": "59e24d3f",
   "metadata": {},
   "outputs": [],
   "source": [
    "# thực hành vẽ mặt cười\n",
    "import turtle\n",
    "pen = turtle.Turtle()\n",
    "pen.pensize(5)\n",
    "pen.fillcolor(\"#B17897\")\n",
    "pen.shape(\"circle\")\n",
    "\n",
    "pen.penup()\n",
    "pen.goto(0, -200)\n",
    "\n",
    "facesize = 200\n",
    "eyesize = 25\n",
    "nosesize = 70\n",
    "\n",
    "pen.pendown()\n",
    "pen.circle(facesize)\n",
    "\n",
    "pen.penup()\n",
    "pen.goto(-50, 100)\n",
    "\n",
    "#draw an eye\n",
    "pen.pendown()\n",
    "pen.begin_fill()\n",
    "pen.circle(eyesize)\n",
    "pen.end_fill()\n",
    "\n",
    "pen.penup()\n",
    "pen.goto(50, 100)\n",
    "\n",
    "pen.pendown()\n",
    "pen.begin_fill()\n",
    "pen.circle(eyesize)\n",
    "pen.end_fill()\n",
    "\n",
    "# draw a nose\n",
    "pen.penup()\n",
    "pen.goto(0, 50)\n",
    "\n",
    "pen.pendown()\n",
    "pen.circle(-nosesize, steps=3)\n",
    "\n",
    "pen.penup()\n",
    "pen.goto(-100, -70)\n",
    "\n",
    "# draw a smile\n",
    "pen.pendown()\n",
    "pen.right(90)\n",
    "pen.circle(100, 180)\n",
    "\n",
    "turtle.done()"
   ]
  },
  {
   "cell_type": "code",
   "execution_count": 29,
   "id": "97355ee3",
   "metadata": {},
   "outputs": [
    {
     "name": "stdout",
     "output_type": "stream",
     "text": [
      "72.61843774138907\n"
     ]
    }
   ],
   "source": [
    "# thực hành tính diện tích tam giác\n",
    "a = 10\n",
    "b = 20\n",
    "c = 15\n",
    "\n",
    "p = (a+b+c)/2\n",
    "\n",
    "s = (p*(p-a)*(p-b)*(p-c))**0.5\n",
    "\n",
    "print(s)"
   ]
  }
 ],
 "metadata": {
  "kernelspec": {
   "display_name": "Python 3 (ipykernel)",
   "language": "python",
   "name": "python3"
  },
  "language_info": {
   "codemirror_mode": {
    "name": "ipython",
    "version": 3
   },
   "file_extension": ".py",
   "mimetype": "text/x-python",
   "name": "python",
   "nbconvert_exporter": "python",
   "pygments_lexer": "ipython3",
   "version": "3.10.2"
  }
 },
 "nbformat": 4,
 "nbformat_minor": 5
}
