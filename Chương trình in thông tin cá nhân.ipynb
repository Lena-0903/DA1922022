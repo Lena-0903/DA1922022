{
 "cells": [
  {
   "cell_type": "code",
   "execution_count": 1,
   "id": "44a2193d",
   "metadata": {},
   "outputs": [
    {
     "name": "stdout",
     "output_type": "stream",
     "text": [
      "nhập họ và tên: Lê Thị Na\n",
      "nhập tuổi: 22\n",
      "nhập nghề: sinh viên\n",
      "Lê Thị Na\n",
      "22\n",
      "sinh viên\n"
     ]
    }
   ],
   "source": [
    "ten = input(\"nhập họ và tên: \")\n",
    "tuoi = input(\"nhập tuổi: \")\n",
    "nghe = input(\"nhập nghề: \")\n",
    "print(ten)\n",
    "print(tuoi)\n",
    "print(nghe)"
   ]
  }
 ],
 "metadata": {
  "kernelspec": {
   "display_name": "Python 3 (ipykernel)",
   "language": "python",
   "name": "python3"
  },
  "language_info": {
   "codemirror_mode": {
    "name": "ipython",
    "version": 3
   },
   "file_extension": ".py",
   "mimetype": "text/x-python",
   "name": "python",
   "nbconvert_exporter": "python",
   "pygments_lexer": "ipython3",
   "version": "3.10.2"
  }
 },
 "nbformat": 4,
 "nbformat_minor": 5
}
