{
 "cells": [
  {
   "cell_type": "code",
   "execution_count": 2,
   "id": "ecd04627",
   "metadata": {},
   "outputs": [
    {
     "name": "stdout",
     "output_type": "stream",
     "text": [
      "nhập chiều cao: 150\n",
      "nhập cân nặng: 30\n",
      "Gầy cấp độ III\n"
     ]
    }
   ],
   "source": [
    "# tính chỉ số BMI của cơ thể\n",
    "x = bool(input(\"nhập chiều cao: \"))\n",
    "y = bool(input(\"nhập cân nặng: \"))\n",
    "\n",
    "BMI = y/ (x**2)\n",
    "if BMI < 16:\n",
    "    print('Gầy cấp độ III')\n",
    "elif 16 <= BMI < 17:\n",
    "    print('Gầy cấp độ II')\n",
    "elif 17<= BMI < 18.5:\n",
    "    print('Gầy cấp độ I')\n",
    "elif 18.5 <= BMI < 25:\n",
    "    print('Bình thường')\n",
    "elif 25 <= BMI < 30:\n",
    "    print('Thừa cân')\n",
    "elif 30 <= BMI < 35: \n",
    "    print('Béo phì cấp độ I')\n",
    "elif 35 <= BMI < 40:\n",
    "    print('Béo phì cấp độ II')\n",
    "else: \n",
    "    print('Béo phì cấp độ III')\n"
   ]
  }
 ],
 "metadata": {
  "kernelspec": {
   "display_name": "Python 3 (ipykernel)",
   "language": "python",
   "name": "python3"
  },
  "language_info": {
   "codemirror_mode": {
    "name": "ipython",
    "version": 3
   },
   "file_extension": ".py",
   "mimetype": "text/x-python",
   "name": "python",
   "nbconvert_exporter": "python",
   "pygments_lexer": "ipython3",
   "version": "3.10.2"
  }
 },
 "nbformat": 4,
 "nbformat_minor": 5
}
