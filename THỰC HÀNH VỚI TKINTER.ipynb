{
 "cells": [
  {
   "cell_type": "code",
   "execution_count": 7,
   "id": "31a49d3c",
   "metadata": {},
   "outputs": [],
   "source": [
    "from tkinter import *\n",
    "\n",
    "windows = Tk()\n",
    "windows.title(\"Simple Calculator\")\n",
    "windows.geometry(\"400x300\")\n",
    "windows.eval('tk::PlaceWindow . center')\n",
    "\n",
    "result_text = Label(windows, text = 'Result')\n",
    "\n",
    "number1 = Entry(windows)\n",
    "number2 = Entry(windows)\n",
    "\n",
    "def add():\n",
    "    result = int(number1.get()) + int(number2.get())\n",
    "    result_text.config(text=result)\n",
    "def minus():\n",
    "    result = int(number1.get()) - int(number2.get())\n",
    "    result_text.config(text=result) \n",
    "def multiphy():\n",
    "    result = int(number1.get()) * int(number2.get())\n",
    "    result_text.config(text=result)\n",
    "def divide():\n",
    "    result = int(number1.get()) / int(number2.get())\n",
    "    result_text.config(text=result)\n",
    "\n",
    "\n",
    "add_btn = Button(windows, text=' + ', width=5, command=add)\n",
    "minus_btn = Button(windows, text=' - ', width=5, command=minus)\n",
    "multiphy_btn = Button(windows, text=' * ',width=5, command=multiphy)\n",
    "divide_btn = Button(windows, text=' / ', width=5, command=divide)\n",
    "\n",
    "number1.pack()\n",
    "number2.pack()\n",
    "add_btn.pack()\n",
    "minus_btn.pack()\n",
    "multiphy_btn.pack()\n",
    "divide_btn.pack()\n",
    "result_text.pack()\n",
    "\n",
    "windows.mainloop()"
   ]
  },
  {
   "cell_type": "code",
   "execution_count": 28,
   "id": "59449fc5",
   "metadata": {},
   "outputs": [],
   "source": [
    "from tkinter import *\n",
    "windows = Tk()\n",
    "windows.title(\"My Intro\")\n",
    "windows.geometry(\"400x300\")\n",
    "windows.eval('tk::PlaceWindow . center')\n",
    "\n",
    "introduction_lbl = Label(windows, text = 'My Introduction')\n",
    "first_name_lbl = Label(windows, text = 'First name')\n",
    "last_name_lbl = Label(windows, text = 'Last name')\n",
    "\n",
    "first_name = Entry(windows)\n",
    "last_name = Entry(windows)\n",
    "\n",
    "def intro():\n",
    "    my_intro = \"My name is \" + first_name.get() + \" \" + last_name.get()\n",
    "    introduction_lbl.config(text=my_intro)\n",
    "    \n",
    "submit_btn = Button(windows, text = 'Submit', command=intro )\n",
    "\n",
    "introduction_lbl.grid(column=0, row=0, columnspan=2)\n",
    "first_name_lbl.grid(column=0, row=1)\n",
    "last_name_lbl.grid(column=0, row=2)\n",
    "first_name.grid(column=1, row=1)\n",
    "last_name.grid(column=1, row=2)\n",
    "submit_btn.grid(column=1, row=3)\n",
    "\n",
    "windows.mainloop()\n"
   ]
  },
  {
   "cell_type": "code",
   "execution_count": 8,
   "id": "f9f6a208",
   "metadata": {},
   "outputs": [
    {
     "ename": "SyntaxError",
     "evalue": "invalid syntax. Perhaps you forgot a comma? (618019827.py, line 16)",
     "output_type": "error",
     "traceback": [
      "\u001b[1;36m  Input \u001b[1;32mIn [8]\u001b[1;36m\u001b[0m\n\u001b[1;33m    result_BMI = round((float(weight_inp.get())/(float(height_inp.get())**2), 2)\u001b[0m\n\u001b[1;37m                       ^\u001b[0m\n\u001b[1;31mSyntaxError\u001b[0m\u001b[1;31m:\u001b[0m invalid syntax. Perhaps you forgot a comma?\n"
     ]
    }
   ],
   "source": [
    "from tkinter import *\n",
    "from tkinter import messagebox\n",
    "windows = Tk()\n",
    "windows.title(\"My BMI\")\n",
    "windows.geometry(\"400x300\")\n",
    "windows.eval('tk::PlaceWindow . center')\n",
    "\n",
    "BMI_calculator_lbl = Label(windows, text =\"BMI Calculator\")\n",
    "weight_lbl = Label(windows, text = \"My weight(kg)\")\n",
    "height_lbl = Label(windows, text = \"My heigth(m)\")\n",
    "\n",
    "weight_inp = Entry(windows)\n",
    "height_inp = Entry(windows)\n",
    "\n",
    "def BMI():\n",
    "    result_BMI = round((float(weight_inp.get())/(float(height_inp.get())**2), 2)\n",
    "    messagebox.showinfo(\"BMI result\", f\"Your BMI is {result_BMI}\")\n",
    "\n",
    "submit_btn = Button(windows, text = 'Submit', command=BMI )\n",
    "\n",
    "BMI_calculator_lbl.grid(column=0, row=0, columnspan=2)\n",
    "weight_lbl.grid(column=0, row=1)\n",
    "height_lbl.grid(column=0, row=2)\n",
    "weight_inp.grid(column=1, row=1)\n",
    "height_inp.grid(column=1, row=2)\n",
    "submit_btn.grid(column=1, row=3)\n",
    "                                        \n",
    "windows.mainloop()"
   ]
  }
 ],
 "metadata": {
  "kernelspec": {
   "display_name": "Python 3 (ipykernel)",
   "language": "python",
   "name": "python3"
  },
  "language_info": {
   "codemirror_mode": {
    "name": "ipython",
    "version": 3
   },
   "file_extension": ".py",
   "mimetype": "text/x-python",
   "name": "python",
   "nbconvert_exporter": "python",
   "pygments_lexer": "ipython3",
   "version": "3.10.2"
  }
 },
 "nbformat": 4,
 "nbformat_minor": 5
}
