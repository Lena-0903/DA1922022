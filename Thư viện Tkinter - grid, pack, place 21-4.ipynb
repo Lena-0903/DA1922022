{
 "cells": [
  {
   "cell_type": "code",
   "execution_count": null,
   "id": "334dfc6d",
   "metadata": {},
   "outputs": [],
   "source": []
  },
  {
   "cell_type": "markdown",
   "id": "4c559a90",
   "metadata": {},
   "source": [
    "## pack\n",
    "\n",
    "Lệnh `pack()` sẽ giúp sắp xếp các đối tượng theo thứ tự nhất định"
   ]
  },
  {
   "cell_type": "code",
   "execution_count": null,
   "id": "d6af98e3",
   "metadata": {},
   "outputs": [],
   "source": []
  },
  {
   "cell_type": "markdown",
   "id": "0093b00d",
   "metadata": {},
   "source": [
    "## grid\n"
   ]
  },
  {
   "cell_type": "code",
   "execution_count": null,
   "id": "d89cd306",
   "metadata": {},
   "outputs": [],
   "source": [
    "# lệnh grid() sẽ giúp sắp xếp các đối tượng theo một bảng\n"
   ]
  },
  {
   "cell_type": "code",
   "execution_count": 10,
   "id": "1ef3347f",
   "metadata": {},
   "outputs": [],
   "source": [
    "from tkinter import *\n",
    "\n",
    "windows = Tk()\n",
    "windows.title(\"Rigistration\")\n",
    "\n",
    "registration = Label(windows, text = \"Rigistration\")\n",
    "fullname = Label(windows, text = \"Full name\")\n",
    "address = Label(windows, text = \"Address\")\n",
    "email = Label(windows, text = \"Email\")\n",
    "\n",
    "\n",
    "fullname_in = Entry(windows)\n",
    "address_in = Entry(windows)\n",
    "email_in = Entry(windows)\n",
    "register = Button(windows, text = \"Register\")\n",
    "login = Button(windows, text = \"Login\")\n",
    "\n",
    "fullname_in.grid(column=1, row=1)\n",
    "address_in.grid(column=1, row=2)\n",
    "email_in.grid(column=1, row=3)\n",
    "register.grid(column=3, row=4)\n",
    "login.grid(column=2, row=4)\n",
    "registration.grid(column=1, row=0, columnspan=2)\n",
    "fullname.grid(column=0, row=1)\n",
    "address.grid(column=0, row=2)\n",
    "email.grid(column=0, row=3)\n",
    "\n",
    "\n",
    "\n",
    "\n",
    "\n",
    "windows.mainloop()"
   ]
  },
  {
   "cell_type": "code",
   "execution_count": null,
   "id": "fd15080f",
   "metadata": {},
   "outputs": [],
   "source": []
  },
  {
   "cell_type": "markdown",
   "id": "f0a05577",
   "metadata": {},
   "source": [
    "## place"
   ]
  },
  {
   "cell_type": "code",
   "execution_count": 2,
   "id": "070e6374",
   "metadata": {},
   "outputs": [
    {
     "ename": "NameError",
     "evalue": "name 'registration_lbl' is not defined",
     "output_type": "error",
     "traceback": [
      "\u001b[1;31m---------------------------------------------------------------------------\u001b[0m",
      "\u001b[1;31mNameError\u001b[0m                                 Traceback (most recent call last)",
      "Input \u001b[1;32mIn [2]\u001b[0m, in \u001b[0;36m<module>\u001b[1;34m\u001b[0m\n\u001b[0;32m     16\u001b[0m register \u001b[38;5;241m=\u001b[39m Button(windows, text \u001b[38;5;241m=\u001b[39m \u001b[38;5;124m\"\u001b[39m\u001b[38;5;124mRegister\u001b[39m\u001b[38;5;124m\"\u001b[39m)\n\u001b[0;32m     17\u001b[0m login \u001b[38;5;241m=\u001b[39m Button(windows, text \u001b[38;5;241m=\u001b[39m \u001b[38;5;124m\"\u001b[39m\u001b[38;5;124mLogin\u001b[39m\u001b[38;5;124m\"\u001b[39m)\n\u001b[1;32m---> 19\u001b[0m \u001b[43mregistration_lbl\u001b[49m\u001b[38;5;241m.\u001b[39mplace(x\u001b[38;5;241m=\u001b[39m\u001b[38;5;241m100\u001b[39m, y\u001b[38;5;241m=\u001b[39m\u001b[38;5;241m50\u001b[39m)\n\u001b[0;32m     20\u001b[0m fullname_lbl\u001b[38;5;241m.\u001b[39mplace(x\u001b[38;5;241m=\u001b[39m\u001b[38;5;241m10\u001b[39m, y\u001b[38;5;241m=\u001b[39m\u001b[38;5;241m100\u001b[39m)\n\u001b[0;32m     21\u001b[0m address_lbl\u001b[38;5;241m.\u001b[39mplace(x\u001b[38;5;241m=\u001b[39m\u001b[38;5;241m10\u001b[39m, y\u001b[38;5;241m=\u001b[39m \u001b[38;5;241m100\u001b[39m)\n",
      "\u001b[1;31mNameError\u001b[0m: name 'registration_lbl' is not defined"
     ]
    }
   ],
   "source": [
    "from tkinter import *\n",
    "\n",
    "windows = Tk()\n",
    "windows.title(\"Rigistration\")\n",
    "\n",
    "registration = Label(windows, text = \"Rigistration\")\n",
    "fullname = Label(windows, text = \"Full name\")\n",
    "address = Label(windows, text = \"Address\")\n",
    "email = Label(windows, text = \"Email\")\n",
    "\n",
    "\n",
    "fullname_in = Entry(windows)\n",
    "address_in = Entry(windows)\n",
    "email_in = Entry(windows)\n",
    "\n",
    "register = Button(windows, text = \"Register\")\n",
    "login = Button(windows, text = \"Login\")\n",
    "\n",
    "registration_lbl.place(x=100, y=50)\n",
    "fullname_lbl.place(x=10, y=100)\n",
    "address_lbl.place(x=10, y= 100)\n",
    "\n",
    "windows.mainloop()"
   ]
  }
 ],
 "metadata": {
  "kernelspec": {
   "display_name": "Python 3 (ipykernel)",
   "language": "python",
   "name": "python3"
  },
  "language_info": {
   "codemirror_mode": {
    "name": "ipython",
    "version": 3
   },
   "file_extension": ".py",
   "mimetype": "text/x-python",
   "name": "python",
   "nbconvert_exporter": "python",
   "pygments_lexer": "ipython3",
   "version": "3.10.2"
  }
 },
 "nbformat": 4,
 "nbformat_minor": 5
}
