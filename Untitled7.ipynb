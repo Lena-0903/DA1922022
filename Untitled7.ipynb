{
 "cells": [
  {
   "cell_type": "code",
   "execution_count": 18,
   "id": "b91e4881",
   "metadata": {},
   "outputs": [
    {
     "ename": "AttributeError",
     "evalue": "module 'tkinter' has no attribute 'Lable'",
     "output_type": "error",
     "traceback": [
      "\u001b[1;31m---------------------------------------------------------------------------\u001b[0m",
      "\u001b[1;31mAttributeError\u001b[0m                            Traceback (most recent call last)",
      "Input \u001b[1;32mIn [18]\u001b[0m, in \u001b[0;36m<module>\u001b[1;34m\u001b[0m\n\u001b[0;32m     25\u001b[0m     window\u001b[38;5;241m.\u001b[39mmainloop()\n\u001b[0;32m     27\u001b[0m \u001b[38;5;28;01mif\u001b[39;00m \u001b[38;5;18m__name__\u001b[39m\u001b[38;5;241m==\u001b[39m\u001b[38;5;124m\"\u001b[39m\u001b[38;5;124m__main__\u001b[39m\u001b[38;5;124m\"\u001b[39m:\n\u001b[1;32m---> 28\u001b[0m     \u001b[43mmain\u001b[49m\u001b[43m(\u001b[49m\u001b[43m)\u001b[49m\n",
      "Input \u001b[1;32mIn [18]\u001b[0m, in \u001b[0;36mmain\u001b[1;34m()\u001b[0m\n\u001b[0;32m     23\u001b[0m \u001b[38;5;28;01mdef\u001b[39;00m \u001b[38;5;21mmain\u001b[39m():\n\u001b[1;32m---> 24\u001b[0m     d\u001b[38;5;241m=\u001b[39m\u001b[43mMainApp\u001b[49m\u001b[43m(\u001b[49m\u001b[43mwindow\u001b[49m\u001b[43m)\u001b[49m\n\u001b[0;32m     25\u001b[0m     window\u001b[38;5;241m.\u001b[39mmainloop()\n",
      "Input \u001b[1;32mIn [18]\u001b[0m, in \u001b[0;36mMainApp.__init__\u001b[1;34m(self, window)\u001b[0m\n\u001b[0;32m     13\u001b[0m Tkinter\u001b[38;5;241m.\u001b[39mFrame\u001b[38;5;241m.\u001b[39m\u001b[38;5;21m__init__\u001b[39m(\u001b[38;5;28mself\u001b[39m, window)\n\u001b[0;32m     14\u001b[0m \u001b[38;5;28mself\u001b[39m\u001b[38;5;241m.\u001b[39mwindow\u001b[38;5;241m=\u001b[39mwindow\n\u001b[1;32m---> 15\u001b[0m \u001b[38;5;28;43mself\u001b[39;49m\u001b[38;5;241;43m.\u001b[39;49m\u001b[43minfomation_of_task\u001b[49m\u001b[43m(\u001b[49m\u001b[43m)\u001b[49m\n",
      "Input \u001b[1;32mIn [18]\u001b[0m, in \u001b[0;36mMainApp.infomation_of_task\u001b[1;34m(self)\u001b[0m\n\u001b[0;32m     18\u001b[0m \u001b[38;5;28mself\u001b[39m\u001b[38;5;241m.\u001b[39mwindow\u001b[38;5;241m.\u001b[39mconfig(background\u001b[38;5;241m=\u001b[39m\u001b[38;5;124m\"\u001b[39m\u001b[38;5;124myellow\u001b[39m\u001b[38;5;124m\"\u001b[39m)\n\u001b[0;32m     19\u001b[0m \u001b[38;5;28mself\u001b[39m\u001b[38;5;241m.\u001b[39mwindow\u001b[38;5;241m.\u001b[39mgeometry(\u001b[38;5;124m'\u001b[39m\u001b[38;5;124m900x400\u001b[39m\u001b[38;5;124m'\u001b[39m)\n\u001b[1;32m---> 21\u001b[0m \u001b[38;5;28mself\u001b[39m\u001b[38;5;241m.\u001b[39mtitle \u001b[38;5;241m=\u001b[39m \u001b[43mTkinter\u001b[49m\u001b[38;5;241;43m.\u001b[39;49m\u001b[43mLable\u001b[49m(\u001b[38;5;28mself\u001b[39m\u001b[38;5;241m.\u001b[39mwindow, text\u001b[38;5;241m=\u001b[39m\u001b[38;5;124m'\u001b[39m\u001b[38;5;124mMy Todolist\u001b[39m\u001b[38;5;124m'\u001b[39m)\n\u001b[0;32m     22\u001b[0m \u001b[38;5;28mself\u001b[39m\u001b[38;5;241m.\u001b[39mtitle\u001b[38;5;241m.\u001b[39mpack(side\u001b[38;5;241m=\u001b[39mTOP, fill\u001b[38;5;241m=\u001b[39mX)\n",
      "\u001b[1;31mAttributeError\u001b[0m: module 'tkinter' has no attribute 'Lable'"
     ]
    }
   ],
   "source": [
    "try:\n",
    "    import Tkinter\n",
    "    import ttk\n",
    "except ImportError:\n",
    "    import tkinter as Tkinter\n",
    "    import tkinter.ttk as ttk\n",
    "    from tkinter import *    \n",
    "\n",
    "window = Tkinter.Tk()\n",
    "\n",
    "class MainApp(Tkinter.Frame):\n",
    "    def __init__(self,window):\n",
    "        Tkinter.Frame.__init__(self, window)\n",
    "        self.window=window\n",
    "        self.infomation_of_task()\n",
    "    def infomation_of_task(self):\n",
    "        self.window.title(\"My Todolist\")\n",
    "        self.window.config(background=\"yellow\")\n",
    "        self.window.geometry('900x400')\n",
    "        \n",
    "        self.title = Tkinter.Lable(self.window, text='My Todolist')\n",
    "        self.title.pack(side=TOP, fill=X)\n",
    "def main():\n",
    "    d=MainApp(window)\n",
    "    window.mainloop()\n",
    "\n",
    "if __name__==\"__main__\":\n",
    "    main()        \n",
    "    "
   ]
  }
 ],
 "metadata": {
  "kernelspec": {
   "display_name": "Python 3 (ipykernel)",
   "language": "python",
   "name": "python3"
  },
  "language_info": {
   "codemirror_mode": {
    "name": "ipython",
    "version": 3
   },
   "file_extension": ".py",
   "mimetype": "text/x-python",
   "name": "python",
   "nbconvert_exporter": "python",
   "pygments_lexer": "ipython3",
   "version": "3.10.2"
  }
 },
 "nbformat": 4,
 "nbformat_minor": 5
}
